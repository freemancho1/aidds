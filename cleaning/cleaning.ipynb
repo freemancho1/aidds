{
 "cells": [
  {
   "cell_type": "code",
   "execution_count": 2,
   "metadata": {},
   "outputs": [],
   "source": [
    "from aidds.sys.utils.data_io import read_data, save_data"
   ]
  },
  {
   "cell_type": "code",
   "execution_count": 4,
   "metadata": {},
   "outputs": [],
   "source": [
    "df = read_data('data.provide.sl')\n",
    "df = df.rename(columns={'지지물간거리': '인입선지지물간거리'})\n",
    "save_data(df, 'data.provide.sl')"
   ]
  },
  {
   "cell_type": "code",
   "execution_count": 5,
   "metadata": {},
   "outputs": [
    {
     "data": {
      "text/plain": [
       "['인입선지지물간거리']"
      ]
     },
     "execution_count": 5,
     "metadata": {},
     "output_type": "execute_result"
    }
   ],
   "source": [
    "[col for col in df.columns if col.endswith('간거리')]"
   ]
  },
  {
   "cell_type": "code",
   "execution_count": 1,
   "metadata": {},
   "outputs": [],
   "source": [
    "from aidds.sys.utils.data_io import get_provide_data\n",
    "from aidds.sys.utils.exception import AiddsException"
   ]
  },
  {
   "cell_type": "code",
   "execution_count": 2,
   "metadata": {},
   "outputs": [
    {
     "name": "stdout",
     "output_type": "stream",
     "text": [
      "[3c88bcf8f5d6][2024-04-10 22:48:42.716081] Fetching provided data start.\n",
      "[3c88bcf8f5d6][2024-04-10 22:49:02.859481]   Get CONS dataset: Size(19052, 143), Processing Time 0:00:20.143271\n",
      "[3c88bcf8f5d6][2024-04-10 22:49:20.109716] Fetching provided data end., Total processing time: 0:00:37.393639\n",
      "\n",
      "::: [AiddsError] [get_provide_data]\n",
      "/home/freeman/projects/aidds/sys/utils/trace.py[79]: with open(error_filename, 'r') as file:\n",
      "NameError: name 'Y좌표' is not defined\n",
      "\n"
     ]
    }
   ],
   "source": [
    "try:\n",
    "    _ = get_provide_data()\n",
    "except AiddsException as ae:\n",
    "    ae.print()"
   ]
  },
  {
   "cell_type": "code",
   "execution_count": null,
   "metadata": {},
   "outputs": [],
   "source": []
  }
 ],
 "metadata": {
  "kernelspec": {
   "display_name": "aidds",
   "language": "python",
   "name": "python3"
  },
  "language_info": {
   "codemirror_mode": {
    "name": "ipython",
    "version": 3
   },
   "file_extension": ".py",
   "mimetype": "text/x-python",
   "name": "python",
   "nbconvert_exporter": "python",
   "pygments_lexer": "ipython3",
   "version": "3.10.14"
  }
 },
 "nbformat": 4,
 "nbformat_minor": 2
}
