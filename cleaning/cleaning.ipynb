{
 "cells": [
  {
   "cell_type": "code",
   "execution_count": 1,
   "metadata": {},
   "outputs": [],
   "source": [
    "from aidds.sys.utils.data_io import read_data, save_data\n",
    "from aidds.cleaning.cleaning import Cleaning"
   ]
  },
  {
   "cell_type": "code",
   "execution_count": 2,
   "metadata": {},
   "outputs": [
    {
     "name": "stdout",
     "output_type": "stream",
     "text": [
      "[8eb2b1d542ed][2024-04-11 14:26:44.041654] Cleaning provided data start.\n",
      "[9184312e1b88][2024-04-11 14:26:44.041779]   Fetching provided data start.\n",
      "[9184312e1b88][2024-04-11 14:27:12.363608]     Get CONS dataset: Size(19052, 143), Processing Time 0:00:28.321712\n",
      "[9184312e1b88][2024-04-11 14:27:46.160385]     Get POLE dataset: Size(38533, 63), Processing Time 0:00:33.796573\n",
      "[9184312e1b88][2024-04-11 14:28:18.001053]     Get LINE dataset: Size(40019, 77), Processing Time 0:00:31.840480\n",
      "[9184312e1b88][2024-04-11 14:28:35.403743]     Get SL dataset: Size(22632, 57), Processing Time 0:00:17.402521\n",
      "[9184312e1b88][2024-04-11 14:28:35.403848]   Fetching provided data end., Total processing time: 0:01:51.362072\n",
      "[8eb2b1d542ed][2024-04-11 14:28:35.587818]   CONS dataset cleaning: (15474, 6)\n",
      "[8eb2b1d542ed][2024-04-11 14:28:35.631823]   POLE dataset cleaning: (28121, 4)\n",
      "[8eb2b1d542ed][2024-04-11 14:28:35.716021]   LINE dataset cleaning: (30617, 8)\n",
      "[8eb2b1d542ed][2024-04-11 14:28:35.747810]   SL dataset cleaning: (17222, 5)\n",
      "[8eb2b1d542ed][2024-04-11 14:28:35.749985] Cleaning provided data end., Total processing time: 0:01:51.708327\n"
     ]
    },
    {
     "data": {
      "text/plain": [
       "<aidds.cleaning.cleaning.Cleaning at 0x7f10127aca00>"
      ]
     },
     "execution_count": 2,
     "metadata": {},
     "output_type": "execute_result"
    }
   ],
   "source": [
    "# Cleaning class Test\n",
    "Cleaning()"
   ]
  },
  {
   "cell_type": "code",
   "execution_count": 2,
   "metadata": {},
   "outputs": [
    {
     "name": "stdout",
     "output_type": "stream",
     "text": [
      "[c5b5e2ee5632][2024-04-11 14:39:58.710796] Cleaning provided data start.\n",
      "[3ea6f30ec8f1][2024-04-11 14:39:58.711082]   Fetching provided data start.\n",
      "[3ea6f30ec8f1][2024-04-11 14:40:27.949257]     Get CONS dataset: Size(19052, 143), Processing Time 0:00:29.238015\n",
      "[3ea6f30ec8f1][2024-04-11 14:41:02.275138]     Get POLE dataset: Size(38533, 63), Processing Time 0:00:34.325664\n",
      "[3ea6f30ec8f1][2024-04-11 14:41:34.613240]     Get LINE dataset: Size(40019, 77), Processing Time 0:00:32.337909\n",
      "[3ea6f30ec8f1][2024-04-11 14:41:52.762694]     Get SL dataset: Size(22632, 57), Processing Time 0:00:18.149272\n",
      "[3ea6f30ec8f1][2024-04-11 14:41:52.762820]   Fetching provided data end., Total processing time: 0:01:54.051741\n",
      "[c5b5e2ee5632][2024-04-11 14:41:52.926106]   CONS dataset cleaning: (15474, 5)\n",
      "[c5b5e2ee5632][2024-04-11 14:41:52.972098]   POLE dataset cleaning: (28121, 4)\n",
      "[c5b5e2ee5632][2024-04-11 14:41:53.060768]   LINE dataset cleaning: (30617, 8)\n",
      "[c5b5e2ee5632][2024-04-11 14:41:53.092543]   SL dataset cleaning: (17222, 5)\n",
      "[c5b5e2ee5632][2024-04-11 14:41:53.094713] Cleaning provided data end., Total processing time: 0:01:54.383938\n"
     ]
    },
    {
     "data": {
      "text/plain": [
       "<aidds.cleaning.cleaning.Cleaning at 0x7fc8a0794a30>"
      ]
     },
     "execution_count": 2,
     "metadata": {},
     "output_type": "execute_result"
    }
   ],
   "source": [
    "# Cleaning class Test, 공사비정보에 접수일 제외\n",
    "Cleaning()"
   ]
  },
  {
   "cell_type": "code",
   "execution_count": 4,
   "metadata": {},
   "outputs": [],
   "source": [
    "df = read_data('data.provide.pole')\n",
    "df = df.rename(columns={'X좌표-Y좌표': 'X좌표_Y좌표'})\n",
    "save_data(df, 'data.provide.pole')"
   ]
  },
  {
   "cell_type": "code",
   "execution_count": 2,
   "metadata": {},
   "outputs": [],
   "source": [
    "df = read_data('data.cleaning.sl')"
   ]
  },
  {
   "cell_type": "code",
   "execution_count": 3,
   "metadata": {},
   "outputs": [
    {
     "data": {
      "text/html": [
       "<div>\n",
       "<style scoped>\n",
       "    .dataframe tbody tr th:only-of-type {\n",
       "        vertical-align: middle;\n",
       "    }\n",
       "\n",
       "    .dataframe tbody tr th {\n",
       "        vertical-align: top;\n",
       "    }\n",
       "\n",
       "    .dataframe thead th {\n",
       "        text-align: right;\n",
       "    }\n",
       "</style>\n",
       "<table border=\"1\" class=\"dataframe\">\n",
       "  <thead>\n",
       "    <tr style=\"text-align: right;\">\n",
       "      <th></th>\n",
       "      <th>acc_no</th>\n",
       "      <th>sl_type_cd</th>\n",
       "      <th>sl_spec_cd</th>\n",
       "      <th>sl_span</th>\n",
       "      <th>sl_phase</th>\n",
       "    </tr>\n",
       "  </thead>\n",
       "  <tbody>\n",
       "    <tr>\n",
       "      <th>0</th>\n",
       "      <td>477420193243</td>\n",
       "      <td>D2</td>\n",
       "      <td>3.2</td>\n",
       "      <td>15</td>\n",
       "      <td>1</td>\n",
       "    </tr>\n",
       "    <tr>\n",
       "      <th>1</th>\n",
       "      <td>477420193349</td>\n",
       "      <td>D2</td>\n",
       "      <td>3.2</td>\n",
       "      <td>5</td>\n",
       "      <td>1</td>\n",
       "    </tr>\n",
       "    <tr>\n",
       "      <th>2</th>\n",
       "      <td>477420193349</td>\n",
       "      <td>D2</td>\n",
       "      <td>3.2</td>\n",
       "      <td>7</td>\n",
       "      <td>1</td>\n",
       "    </tr>\n",
       "    <tr>\n",
       "      <th>3</th>\n",
       "      <td>477420193827</td>\n",
       "      <td>D2</td>\n",
       "      <td>3.2</td>\n",
       "      <td>10</td>\n",
       "      <td>1</td>\n",
       "    </tr>\n",
       "    <tr>\n",
       "      <th>4</th>\n",
       "      <td>477420194090</td>\n",
       "      <td>D2</td>\n",
       "      <td>3.2</td>\n",
       "      <td>18</td>\n",
       "      <td>1</td>\n",
       "    </tr>\n",
       "  </tbody>\n",
       "</table>\n",
       "</div>"
      ],
      "text/plain": [
       "         acc_no sl_type_cd  sl_spec_cd  sl_span  sl_phase\n",
       "0  477420193243         D2         3.2       15         1\n",
       "1  477420193349         D2         3.2        5         1\n",
       "2  477420193349         D2         3.2        7         1\n",
       "3  477420193827         D2         3.2       10         1\n",
       "4  477420194090         D2         3.2       18         1"
      ]
     },
     "execution_count": 3,
     "metadata": {},
     "output_type": "execute_result"
    }
   ],
   "source": [
    "df.head()"
   ]
  },
  {
   "cell_type": "code",
   "execution_count": 7,
   "metadata": {},
   "outputs": [],
   "source": [
    "from aidds.sys.utils.data_io import get_provide_data\n",
    "from aidds.sys.utils.exception import AiddsException"
   ]
  },
  {
   "cell_type": "code",
   "execution_count": 8,
   "metadata": {},
   "outputs": [
    {
     "name": "stdout",
     "output_type": "stream",
     "text": [
      "[e2c846bfa2a8][2024-04-11 09:22:44.157552] Fetching provided data start.\n",
      "[e2c846bfa2a8][2024-04-11 09:23:10.330539]   Get CONS dataset: Size(19052, 143), Processing Time 0:00:26.172815\n",
      "[e2c846bfa2a8][2024-04-11 09:23:43.824295]   Get POLE dataset: Size(38533, 63), Processing Time 0:00:33.493577\n",
      "[e2c846bfa2a8][2024-04-11 09:24:15.438043]   Get LINE dataset: Size(40019, 77), Processing Time 0:00:31.613566\n",
      "[e2c846bfa2a8][2024-04-11 09:24:32.832730]   Get SL dataset: Size(22632, 57), Processing Time 0:00:17.394532\n",
      "[e2c846bfa2a8][2024-04-11 09:24:32.832837] Fetching provided data end., Total processing time: 0:01:48.675302\n"
     ]
    }
   ],
   "source": [
    "try:\n",
    "    _ = get_provide_data()\n",
    "except AiddsException as ae:\n",
    "    ae.print()"
   ]
  },
  {
   "cell_type": "code",
   "execution_count": null,
   "metadata": {},
   "outputs": [],
   "source": []
  }
 ],
 "metadata": {
  "kernelspec": {
   "display_name": "aidds",
   "language": "python",
   "name": "python3"
  },
  "language_info": {
   "codemirror_mode": {
    "name": "ipython",
    "version": 3
   },
   "file_extension": ".py",
   "mimetype": "text/x-python",
   "name": "python",
   "nbconvert_exporter": "python",
   "pygments_lexer": "ipython3",
   "version": "3.10.14"
  }
 },
 "nbformat": 4,
 "nbformat_minor": 2
}
