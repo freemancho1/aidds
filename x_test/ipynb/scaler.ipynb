{
 "cells": [
  {
   "cell_type": "code",
   "execution_count": 1,
   "metadata": {},
   "outputs": [],
   "source": [
    "from aidds.sys.utils.exception import AiddsException\n",
    "from aidds.modeling.scaler import Scaling"
   ]
  },
  {
   "cell_type": "code",
   "execution_count": 2,
   "metadata": {},
   "outputs": [
    {
     "name": "stdout",
     "output_type": "stream",
     "text": [
      "[72c7991aafed][2024-04-13 17:00:45.618798] Preprocessing data scaling start.\n",
      "[72c7991aafed][2024-04-13 17:00:45.699508]   Total size of attribute data for learning: (10968, 98)\n",
      "[72c7991aafed][2024-04-13 17:00:45.703660]   Data size of training/testing data by pole count: pc_type[all] - total(10968, 98), train(8226, 98), test(2742, 98)\n",
      "[72c7991aafed][2024-04-13 17:00:45.722318]   Data size of training/testing data by pole count: pc_type[e1] - total(6611, 98), train(4958, 98), test(1653, 98)\n",
      "[72c7991aafed][2024-04-13 17:00:45.737081]   Data size of training/testing data by pole count: pc_type[n1] - total(4357, 98), train(3267, 98), test(1090, 98)\n",
      "[72c7991aafed][2024-04-13 17:00:48.698583] Preprocessing data scaling end., Total processing time: 0:00:03.079819\n"
     ]
    }
   ],
   "source": [
    "try:\n",
    "    sc = Scaling(is_best=True)\n",
    "except AiddsException as ae:\n",
    "    ae.print()"
   ]
  },
  {
   "cell_type": "code",
   "execution_count": null,
   "metadata": {},
   "outputs": [],
   "source": []
  }
 ],
 "metadata": {
  "kernelspec": {
   "display_name": "aidds",
   "language": "python",
   "name": "python3"
  },
  "language_info": {
   "codemirror_mode": {
    "name": "ipython",
    "version": 3
   },
   "file_extension": ".py",
   "mimetype": "text/x-python",
   "name": "python",
   "nbconvert_exporter": "python",
   "pygments_lexer": "ipython3",
   "version": "3.10.14"
  }
 },
 "nbformat": 4,
 "nbformat_minor": 2
}
