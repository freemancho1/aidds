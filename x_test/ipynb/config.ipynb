{
 "cells": [
  {
   "cell_type": "code",
   "execution_count": 3,
   "metadata": {},
   "outputs": [],
   "source": [
    "import aidds.sys.config as cfg\n",
    "from aidds.sys.utils.data_io import read_data\n",
    "from aidds.sys.utils.exception import AiddsException"
   ]
  },
  {
   "cell_type": "code",
   "execution_count": 2,
   "metadata": {},
   "outputs": [
    {
     "data": {
      "text/plain": [
       "['LIN', 'LASSO', 'RIDGE', 'KNR', 'DTR', 'RFR', 'GBR', 'EN', 'XGR']"
      ]
     },
     "execution_count": 2,
     "metadata": {},
     "output_type": "execute_result"
    }
   ],
   "source": [
    "cfg.models.MODEL_KEYs"
   ]
  },
  {
   "cell_type": "code",
   "execution_count": 4,
   "metadata": {},
   "outputs": [
    {
     "name": "stdout",
     "output_type": "stream",
     "text": [
      "\n",
      "\n",
      ":::AiddsError [read_data]\n",
      "/home/freeman/anaconda3/envs/aidds/lib/python3.10/site-packages/pandas/io/common.py[873]: handle = open(\n",
      "FileNotFoundError: [Errno 2] No such file or directory: '/home/freeman/projects/data/aidds/data/STEP06_LAST_PREPROCESSING.CSV'\n"
     ]
    }
   ],
   "source": [
    "try:\n",
    "    df = read_data('PP_LAST')\n",
    "except AiddsException as ae:\n",
    "    ae.print()"
   ]
  },
  {
   "cell_type": "code",
   "execution_count": null,
   "metadata": {},
   "outputs": [],
   "source": []
  }
 ],
 "metadata": {
  "kernelspec": {
   "display_name": "aidds",
   "language": "python",
   "name": "python3"
  },
  "language_info": {
   "codemirror_mode": {
    "name": "ipython",
    "version": 3
   },
   "file_extension": ".py",
   "mimetype": "text/x-python",
   "name": "python",
   "nbconvert_exporter": "python",
   "pygments_lexer": "ipython3",
   "version": "3.10.14"
  }
 },
 "nbformat": 4,
 "nbformat_minor": 2
}
