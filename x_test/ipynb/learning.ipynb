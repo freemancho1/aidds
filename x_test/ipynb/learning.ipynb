{
 "cells": [
  {
   "cell_type": "code",
   "execution_count": 1,
   "metadata": {},
   "outputs": [],
   "source": [
    "from aidds.modeling.learn import Learning\n",
    "from aidds.sys.utils.exception import AiddsException"
   ]
  },
  {
   "cell_type": "code",
   "execution_count": 2,
   "metadata": {},
   "outputs": [
    {
     "name": "stdout",
     "output_type": "stream",
     "text": [
      "[274fc299afd8][2024-04-13 17:02:44.230407] Learning start.\n",
      "[274fc299afd8][2024-04-13 17:02:44.624228]   Model training results: MODEL[LIN], Data[ALL] - MAPE: 1688196576.655420, R2SCORE: -9100359717598080794624.000000\n",
      "[274fc299afd8][2024-04-13 17:02:44.726416]   Model training results: MODEL[LIN], Data[E1] - MAPE: 3546033926.563682, R2SCORE: -113027165962610784862208.000000\n",
      "[274fc299afd8][2024-04-13 17:02:44.839100]   Model training results: MODEL[LIN], Data[N1] - MAPE: 3226285101.217908, R2SCORE: -42442270974824587198464.000000\n"
     ]
    },
    {
     "name": "stderr",
     "output_type": "stream",
     "text": [
      "/home/freeman/anaconda3/envs/aidds/lib/python3.10/site-packages/sklearn/linear_model/_coordinate_descent.py:678: ConvergenceWarning: Objective did not converge. You might want to increase the number of iterations, check the scale of the features or consider increasing regularisation. Duality gap: 5.049e+15, tolerance: 8.411e+12\n",
      "  model = cd_fast.enet_coordinate_descent(\n"
     ]
    },
    {
     "name": "stdout",
     "output_type": "stream",
     "text": [
      "[274fc299afd8][2024-04-13 17:02:46.277247]   Model training results: MODEL[LASSO], Data[ALL] - MAPE: 0.115086, R2SCORE: 0.882314\n"
     ]
    },
    {
     "name": "stderr",
     "output_type": "stream",
     "text": [
      "/home/freeman/anaconda3/envs/aidds/lib/python3.10/site-packages/sklearn/linear_model/_coordinate_descent.py:678: ConvergenceWarning: Objective did not converge. You might want to increase the number of iterations, check the scale of the features or consider increasing regularisation. Duality gap: 4.541e+14, tolerance: 5.222e+11\n",
      "  model = cd_fast.enet_coordinate_descent(\n"
     ]
    },
    {
     "name": "stdout",
     "output_type": "stream",
     "text": [
      "[274fc299afd8][2024-04-13 17:02:46.952048]   Model training results: MODEL[LASSO], Data[E1] - MAPE: 0.106056, R2SCORE: 0.745001\n"
     ]
    },
    {
     "name": "stderr",
     "output_type": "stream",
     "text": [
      "/home/freeman/anaconda3/envs/aidds/lib/python3.10/site-packages/sklearn/linear_model/_coordinate_descent.py:678: ConvergenceWarning: Objective did not converge. You might want to increase the number of iterations, check the scale of the features or consider increasing regularisation. Duality gap: 4.022e+15, tolerance: 5.086e+12\n",
      "  model = cd_fast.enet_coordinate_descent(\n"
     ]
    },
    {
     "name": "stdout",
     "output_type": "stream",
     "text": [
      "[274fc299afd8][2024-04-13 17:02:47.459737]   Model training results: MODEL[LASSO], Data[N1] - MAPE: 0.124587, R2SCORE: 0.806026\n",
      "[274fc299afd8][2024-04-13 17:02:47.563950]   Model training results: MODEL[RIDGE], Data[ALL] - MAPE: 0.115069, R2SCORE: 0.882425\n",
      "[274fc299afd8][2024-04-13 17:02:47.684804]   Model training results: MODEL[RIDGE], Data[E1] - MAPE: 0.105630, R2SCORE: 0.750684\n",
      "[274fc299afd8][2024-04-13 17:02:47.812828]   Model training results: MODEL[RIDGE], Data[N1] - MAPE: 0.124862, R2SCORE: 0.803682\n",
      "[274fc299afd8][2024-04-13 17:02:47.954910]   Model training results: MODEL[KNR], Data[ALL] - MAPE: 0.118271, R2SCORE: 0.782357\n",
      "[274fc299afd8][2024-04-13 17:02:47.984244]   Model training results: MODEL[KNR], Data[E1] - MAPE: 0.106942, R2SCORE: 0.615234\n",
      "[274fc299afd8][2024-04-13 17:02:48.000473]   Model training results: MODEL[KNR], Data[N1] - MAPE: 0.129065, R2SCORE: 0.661785\n",
      "[274fc299afd8][2024-04-13 17:02:48.079687]   Model training results: MODEL[DTR], Data[ALL] - MAPE: 0.138044, R2SCORE: 0.798432\n",
      "[274fc299afd8][2024-04-13 17:02:48.119676]   Model training results: MODEL[DTR], Data[E1] - MAPE: 0.130762, R2SCORE: 0.590337\n",
      "[274fc299afd8][2024-04-13 17:02:48.155018]   Model training results: MODEL[DTR], Data[N1] - MAPE: 0.148708, R2SCORE: 0.745537\n",
      "[274fc299afd8][2024-04-13 17:02:49.595858]   Model training results: MODEL[RFR], Data[ALL] - MAPE: 0.102427, R2SCORE: 0.913965\n",
      "[274fc299afd8][2024-04-13 17:02:50.923220]   Model training results: MODEL[RFR], Data[E1] - MAPE: 0.102868, R2SCORE: 0.707556\n",
      "[274fc299afd8][2024-04-13 17:02:51.880500]   Model training results: MODEL[RFR], Data[N1] - MAPE: 0.109224, R2SCORE: 0.839757\n",
      "[274fc299afd8][2024-04-13 17:02:53.194851]   Model training results: MODEL[GBR], Data[ALL] - MAPE: 0.105473, R2SCORE: 0.922260\n",
      "[274fc299afd8][2024-04-13 17:02:53.738943]   Model training results: MODEL[GBR], Data[E1] - MAPE: 0.099252, R2SCORE: 0.758021\n",
      "[274fc299afd8][2024-04-13 17:02:54.258735]   Model training results: MODEL[GBR], Data[N1] - MAPE: 0.108889, R2SCORE: 0.869682\n",
      "[274fc299afd8][2024-04-13 17:02:54.738294]   Model training results: MODEL[EN], Data[ALL] - MAPE: 0.113466, R2SCORE: 0.888453\n",
      "[274fc299afd8][2024-04-13 17:02:54.916605]   Model training results: MODEL[EN], Data[E1] - MAPE: 0.105370, R2SCORE: 0.751709\n",
      "[274fc299afd8][2024-04-13 17:02:55.088375]   Model training results: MODEL[EN], Data[N1] - MAPE: 0.124239, R2SCORE: 0.803249\n",
      "[274fc299afd8][2024-04-13 17:02:55.308709]   Model training results: MODEL[XGR], Data[ALL] - MAPE: 0.220271, R2SCORE: 0.755163\n",
      "[274fc299afd8][2024-04-13 17:02:55.430216]   Model training results: MODEL[XGR], Data[E1] - MAPE: 0.123566, R2SCORE: 0.553187\n",
      "[274fc299afd8][2024-04-13 17:02:55.566127]   Model training results: MODEL[XGR], Data[N1] - MAPE: 0.206647, R2SCORE: 0.684013\n",
      "[274fc299afd8][2024-04-13 17:02:55.575795] Learning end., Total processing time: 0:00:11.345404\n"
     ]
    }
   ],
   "source": [
    "try: \n",
    "    ll = Learning()\n",
    "except AiddsException as ae:\n",
    "    ae.print()\n",
    "except Exception as e:\n",
    "    print(e)"
   ]
  },
  {
   "cell_type": "code",
   "execution_count": 3,
   "metadata": {},
   "outputs": [
    {
     "data": {
      "text/plain": [
       "{'all': {'model': GradientBoostingRegressor(),\n",
       "  'score': 0.9222603336083497,\n",
       "  'mape': 0.10547264967031447,\n",
       "  'model_key': 'gbr'},\n",
       " 'e1': {'model': GradientBoostingRegressor(),\n",
       "  'score': 0.7580205260447367,\n",
       "  'mape': 0.09925224171734115,\n",
       "  'model_key': 'gbr'},\n",
       " 'n1': {'model': GradientBoostingRegressor(),\n",
       "  'score': 0.8696821946321562,\n",
       "  'mape': 0.1088892901895572,\n",
       "  'model_key': 'gbr'}}"
      ]
     },
     "execution_count": 3,
     "metadata": {},
     "output_type": "execute_result"
    }
   ],
   "source": [
    "ll._best"
   ]
  },
  {
   "cell_type": "code",
   "execution_count": null,
   "metadata": {},
   "outputs": [],
   "source": []
  }
 ],
 "metadata": {
  "kernelspec": {
   "display_name": "aidds",
   "language": "python",
   "name": "python3"
  },
  "language_info": {
   "codemirror_mode": {
    "name": "ipython",
    "version": 3
   },
   "file_extension": ".py",
   "mimetype": "text/x-python",
   "name": "python",
   "nbconvert_exporter": "python",
   "pygments_lexer": "ipython3",
   "version": "3.10.14"
  }
 },
 "nbformat": 4,
 "nbformat_minor": 2
}
