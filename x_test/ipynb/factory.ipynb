{
 "cells": [
  {
   "cell_type": "code",
   "execution_count": 5,
   "metadata": {},
   "outputs": [],
   "source": [
    "from aidds.sys.utils.data_io import get_service_pickle\n",
    "from aidds.sys.utils.exception import AiddsException"
   ]
  },
  {
   "cell_type": "code",
   "execution_count": 6,
   "metadata": {},
   "outputs": [],
   "source": [
    "try:\n",
    "    pickle_data = get_service_pickle()\n",
    "except AiddsException as ae:\n",
    "    ae.print()"
   ]
  },
  {
   "cell_type": "code",
   "execution_count": 14,
   "metadata": {},
   "outputs": [
    {
     "name": "stdout",
     "output_type": "stream",
     "text": [
      "pp.office.codes\n",
      "pp.one_hot_cols.pole\n",
      "pp.one_hot_cols.line\n",
      "pp.one_hot_cols.sl\n",
      "pp.last_cols\n",
      "modeling_cols\n",
      "scaler.all\n",
      "scaler.e1\n",
      "scaler.n1\n",
      "models.all.best\n",
      "models.e1.best\n",
      "models.n1.best\n"
     ]
    }
   ],
   "source": [
    "for key in pickle_data.keys():\n",
    "    print(key)"
   ]
  },
  {
   "cell_type": "code",
   "execution_count": 8,
   "metadata": {},
   "outputs": [
    {
     "data": {
      "text/plain": [
       "['AAAA',\n",
       " 'BBBB',\n",
       " 'CCCC',\n",
       " 'DDDD',\n",
       " 'EEEE',\n",
       " 'FFFF',\n",
       " 'GGGG',\n",
       " 'HHHH',\n",
       " 'IIII',\n",
       " 'JJJJ',\n",
       " 'KKKK']"
      ]
     },
     "execution_count": 8,
     "metadata": {},
     "output_type": "execute_result"
    }
   ],
   "source": [
    "pickle_data['pp.office.codes']"
   ]
  },
  {
   "cell_type": "code",
   "execution_count": 11,
   "metadata": {},
   "outputs": [
    {
     "data": {
      "text/plain": [
       "'pp'"
      ]
     },
     "execution_count": 11,
     "metadata": {},
     "output_type": "execute_result"
    }
   ],
   "source": [
    "import aidds.sys.config as cfg\n",
    "next(iter(cfg.file.name.pickle))"
   ]
  },
  {
   "cell_type": "code",
   "execution_count": 13,
   "metadata": {},
   "outputs": [
    {
     "data": {
      "text/plain": [
       "(10, 10)"
      ]
     },
     "execution_count": 13,
     "metadata": {},
     "output_type": "execute_result"
    }
   ],
   "source": [
    "a = b = 10\n",
    "a, b"
   ]
  },
  {
   "cell_type": "code",
   "execution_count": null,
   "metadata": {},
   "outputs": [],
   "source": []
  }
 ],
 "metadata": {
  "kernelspec": {
   "display_name": "aidds",
   "language": "python",
   "name": "python3"
  },
  "language_info": {
   "codemirror_mode": {
    "name": "ipython",
    "version": 3
   },
   "file_extension": ".py",
   "mimetype": "text/x-python",
   "name": "python",
   "nbconvert_exporter": "python",
   "pygments_lexer": "ipython3",
   "version": "3.10.14"
  }
 },
 "nbformat": 4,
 "nbformat_minor": 2
}
