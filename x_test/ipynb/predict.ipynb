{
 "cells": [
  {
   "cell_type": "code",
   "execution_count": 1,
   "metadata": {},
   "outputs": [],
   "source": [
    "from aidds.serving.service.predict import Predict\n",
    "from aidds.sys.utils.exception import AiddsException\n",
    "from aidds.sys.utils.data_io import get_service_pickle"
   ]
  },
  {
   "cell_type": "code",
   "execution_count": 2,
   "metadata": {},
   "outputs": [],
   "source": [
    "in_json = {\"pred_1\": {\"cons\": {\"acc_no\": \"475920223002\", \"cons_cost\": 2285982, \"office_cd\": \"FFFF\", \"cont_cap\": 5, \"sup_type\": 1, \"pred_no\": \"pred_1\", \"pred_type\": \"pred_1\"}, \"pole\": {\"pole_1\": {\"acc_no\": \"475920223002\", \"pole_shape_cd\": \"O\", \"pole_type_cd\": \"C\", \"pole_spec_cd\": 10.0}}, \"line\": {\"line_1\": {\"acc_no\": \"475920223002\", \"wiring_scheme\": 13, \"line_type_cd\": \"OW\", \"line_spec_cd\": 22.0, \"line_phase_cd\": 1, \"span\": 17, \"neutral_type_cd\": \"WO\", \"neutral_spec_cd\": 22.0}}, \"sl\": {\"sl_1\": {\"acc_no\": \"475920223002\", \"sl_type_cd\": \"D2\", \"sl_spec_cd\": 3.2, \"sl_span\": 15, \"sl_phase\": 1}}}, \"pred_2\": {\"cons\": {\"acc_no\": \"475920223002\", \"cons_cost\": 2248602, \"office_cd\": \"JJJJ\", \"cont_cap\": 4, \"sup_type\": 1, \"pred_no\": \"pred_2\", \"pred_type\": \"pred_2\"}, \"pole\": {\"pole_1\": {\"acc_no\": \"475920223002\", \"pole_shape_cd\": \"O\", \"pole_type_cd\": \"C\", \"pole_spec_cd\": 10.0}}, \"line\": {\"line_1\": {\"acc_no\": \"475920223002\", \"wiring_scheme\": 13, \"line_type_cd\": \"C2\", \"line_spec_cd\": 25.0, \"line_phase_cd\": 1, \"span\": 21, \"neutral_type_cd\": \"ZZ\", \"neutral_spec_cd\": 0.0}}, \"sl\": {\"sl_1\": {\"acc_no\": \"475920223002\", \"sl_type_cd\": \"D2\", \"sl_spec_cd\": 3.2, \"sl_span\": 2, \"sl_phase\": 1}}}, \"pred_3\": {\"cons\": {\"acc_no\": \"475920223002\", \"cons_cost\": 4166336, \"office_cd\": \"BBBB\", \"cont_cap\": 3, \"sup_type\": 1, \"pred_no\": \"pred_3\", \"pred_type\": \"pred_3\"}, \"pole\": {\"pole_1\": {\"acc_no\": \"475920223002\", \"pole_shape_cd\": \"O\", \"pole_type_cd\": \"C\", \"pole_spec_cd\": 10.0}, \"pole_2\": {\"acc_no\": \"475920223002\", \"pole_shape_cd\": \"O\", \"pole_type_cd\": \"C\", \"pole_spec_cd\": 10.0}}, \"line\": {\"line_1\": {\"acc_no\": \"475920223002\", \"wiring_scheme\": 13, \"line_type_cd\": \"AO\", \"line_spec_cd\": 35.0, \"line_phase_cd\": 1, \"span\": 58, \"neutral_type_cd\": \"AL\", \"neutral_spec_cd\": 32.0}, \"line_2\": {\"acc_no\": \"475920223002\", \"wiring_scheme\": 13, \"line_type_cd\": \"AO\", \"line_spec_cd\": 35.0, \"line_phase_cd\": 1, \"span\": 61, \"neutral_type_cd\": \"AL\", \"neutral_spec_cd\": 32.0}}, \"sl\": {\"sl_1\": {\"acc_no\": \"475920223002\", \"sl_type_cd\": \"D2\", \"sl_spec_cd\": 3.2, \"sl_span\": 12, \"sl_phase\": 1}}}}"
   ]
  },
  {
   "cell_type": "code",
   "execution_count": 3,
   "metadata": {},
   "outputs": [
    {
     "name": "stdout",
     "output_type": "stream",
     "text": [
      "[2024-04-16 14:54:49.605738] The predic manager for the web service has started.\n",
      "[2024-04-16 14:54:49.605949] Prediction request data size:acc_no=475920223002, size=3\n"
     ]
    },
    {
     "name": "stderr",
     "output_type": "stream",
     "text": [
      "/home/freeman/anaconda3/envs/aidds/lib/python3.10/site-packages/sklearn/base.py:493: UserWarning: X does not have valid feature names, but GradientBoostingRegressor was fitted with feature names\n",
      "  warnings.warn(\n",
      "/home/freeman/anaconda3/envs/aidds/lib/python3.10/site-packages/sklearn/base.py:493: UserWarning: X does not have valid feature names, but Ridge was fitted with feature names\n",
      "  warnings.warn(\n",
      "/home/freeman/anaconda3/envs/aidds/lib/python3.10/site-packages/sklearn/base.py:493: UserWarning: X does not have valid feature names, but GradientBoostingRegressor was fitted with feature names\n",
      "  warnings.warn(\n",
      "/home/freeman/anaconda3/envs/aidds/lib/python3.10/site-packages/sklearn/base.py:493: UserWarning: X does not have valid feature names, but Ridge was fitted with feature names\n",
      "  warnings.warn(\n",
      "/home/freeman/anaconda3/envs/aidds/lib/python3.10/site-packages/sklearn/base.py:493: UserWarning: X does not have valid feature names, but GradientBoostingRegressor was fitted with feature names\n",
      "  warnings.warn(\n",
      "/home/freeman/anaconda3/envs/aidds/lib/python3.10/site-packages/sklearn/base.py:493: UserWarning: X does not have valid feature names, but GradientBoostingRegressor was fitted with feature names\n",
      "  warnings.warn(\n"
     ]
    }
   ],
   "source": [
    "try:\n",
    "    pred = Predict(in_json=in_json)\n",
    "except AiddsException as ae:\n",
    "    ae.print()"
   ]
  },
  {
   "cell_type": "code",
   "execution_count": 4,
   "metadata": {},
   "outputs": [
    {
     "data": {
      "text/plain": [
       "{'pred_1': {'acc_no': '475920223002',\n",
       "  'cons_cost': 2285982,\n",
       "  'pred_all': 3869331.0177384308,\n",
       "  'pred_pc': 5599138.303230644},\n",
       " 'pred_2': {'acc_no': '475920223002',\n",
       "  'cons_cost': 2248602,\n",
       "  'pred_all': 4368014.671771282,\n",
       "  'pred_pc': 7134093.988882251},\n",
       " 'pred_3': {'acc_no': '475920223002',\n",
       "  'cons_cost': 4166336,\n",
       "  'pred_all': 5805376.566263964,\n",
       "  'pred_pc': 4114428.4730597497}}"
      ]
     },
     "execution_count": 4,
     "metadata": {},
     "output_type": "execute_result"
    }
   ],
   "source": [
    "pred._pred_result_dict"
   ]
  },
  {
   "cell_type": "code",
   "execution_count": 5,
   "metadata": {},
   "outputs": [
    {
     "data": {
      "text/plain": [
       "{'pred_1': {'cons': {'acc_no': '475920223002',\n",
       "   'cons_cost': 2285982,\n",
       "   'pred_no': 'pred_1',\n",
       "   'pred_type': 'pred_1'},\n",
       "  'pole': {'pole_1': {'acc_no': '475920223002',\n",
       "    'pole_shape_cd': 'O',\n",
       "    'pole_type_cd': 'C',\n",
       "    'pole_spec_cd': 10.0}},\n",
       "  'line': {'line_1': {'acc_no': '475920223002',\n",
       "    'wiring_scheme': 13,\n",
       "    'line_type_cd': 'OW',\n",
       "    'line_spec_cd': 22.0,\n",
       "    'line_phase_cd': 1,\n",
       "    'span': 17,\n",
       "    'neutral_type_cd': 'WO',\n",
       "    'neutral_spec_cd': 22.0}},\n",
       "  'sl': {'sl_1': {'acc_no': '475920223002',\n",
       "    'sl_type_cd': 'D2',\n",
       "    'sl_spec_cd': 3.2,\n",
       "    'sl_span': 15,\n",
       "    'sl_phase': 1}}},\n",
       " 'pred_2': {'cons': {'acc_no': '475920223002',\n",
       "   'cons_cost': 2248602,\n",
       "   'pred_no': 'pred_2',\n",
       "   'pred_type': 'pred_2'},\n",
       "  'pole': {'pole_1': {'acc_no': '475920223002',\n",
       "    'pole_shape_cd': 'O',\n",
       "    'pole_type_cd': 'C',\n",
       "    'pole_spec_cd': 10.0}},\n",
       "  'line': {'line_1': {'acc_no': '475920223002',\n",
       "    'wiring_scheme': 13,\n",
       "    'line_type_cd': 'C2',\n",
       "    'line_spec_cd': 25.0,\n",
       "    'line_phase_cd': 1,\n",
       "    'span': 21,\n",
       "    'neutral_type_cd': 'ZZ',\n",
       "    'neutral_spec_cd': 0.0}},\n",
       "  'sl': {'sl_1': {'acc_no': '475920223002',\n",
       "    'sl_type_cd': 'D2',\n",
       "    'sl_spec_cd': 3.2,\n",
       "    'sl_span': 2,\n",
       "    'sl_phase': 1}}},\n",
       " 'pred_3': {'cons': {'acc_no': '475920223002',\n",
       "   'cons_cost': 4166336,\n",
       "   'pred_no': 'pred_3',\n",
       "   'pred_type': 'pred_3'},\n",
       "  'pole': {'pole_1': {'acc_no': '475920223002',\n",
       "    'pole_shape_cd': 'O',\n",
       "    'pole_type_cd': 'C',\n",
       "    'pole_spec_cd': 10.0},\n",
       "   'pole_2': {'acc_no': '475920223002',\n",
       "    'pole_shape_cd': 'O',\n",
       "    'pole_type_cd': 'C',\n",
       "    'pole_spec_cd': 10.0}},\n",
       "  'line': {'line_1': {'acc_no': '475920223002',\n",
       "    'wiring_scheme': 13,\n",
       "    'line_type_cd': 'AO',\n",
       "    'line_spec_cd': 35.0,\n",
       "    'line_phase_cd': 1,\n",
       "    'span': 58,\n",
       "    'neutral_type_cd': 'AL',\n",
       "    'neutral_spec_cd': 32.0},\n",
       "   'line_2': {'acc_no': '475920223002',\n",
       "    'wiring_scheme': 13,\n",
       "    'line_type_cd': 'AO',\n",
       "    'line_spec_cd': 35.0,\n",
       "    'line_phase_cd': 1,\n",
       "    'span': 61,\n",
       "    'neutral_type_cd': 'AL',\n",
       "    'neutral_spec_cd': 32.0}},\n",
       "  'sl': {'sl_1': {'acc_no': '475920223002',\n",
       "    'sl_type_cd': 'D2',\n",
       "    'sl_spec_cd': 3.2,\n",
       "    'sl_span': 12,\n",
       "    'sl_phase': 1}}}}"
      ]
     },
     "execution_count": 5,
     "metadata": {},
     "output_type": "execute_result"
    }
   ],
   "source": [
    "pred._ret_json_dict"
   ]
  },
  {
   "cell_type": "code",
   "execution_count": 7,
   "metadata": {},
   "outputs": [
    {
     "data": {
      "text/plain": [
       "dict"
      ]
     },
     "execution_count": 7,
     "metadata": {},
     "output_type": "execute_result"
    }
   ],
   "source": [
    "type(pred._ret_json_dict)"
   ]
  },
  {
   "cell_type": "code",
   "execution_count": 10,
   "metadata": {},
   "outputs": [
    {
     "name": "stdout",
     "output_type": "stream",
     "text": [
      "<class 'str'> pred_1\n",
      "3869331.0177384308\n",
      "<class 'str'> pred_2\n",
      "4368014.671771282\n",
      "<class 'str'> pred_3\n",
      "5805376.566263964\n"
     ]
    }
   ],
   "source": [
    "for key, _ in pred._ret_json_dict.items():\n",
    "    print(type(key), key)\n",
    "    print(pred._pred_result_dict[key]['pred_all'])"
   ]
  },
  {
   "cell_type": "code",
   "execution_count": null,
   "metadata": {},
   "outputs": [],
   "source": []
  }
 ],
 "metadata": {
  "kernelspec": {
   "display_name": "aidds",
   "language": "python",
   "name": "python3"
  },
  "language_info": {
   "codemirror_mode": {
    "name": "ipython",
    "version": 3
   },
   "file_extension": ".py",
   "mimetype": "text/x-python",
   "name": "python",
   "nbconvert_exporter": "python",
   "pygments_lexer": "ipython3",
   "version": "3.10.14"
  }
 },
 "nbformat": 4,
 "nbformat_minor": 2
}
