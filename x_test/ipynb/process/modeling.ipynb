{
 "cells": [
  {
   "cell_type": "code",
   "execution_count": 1,
   "metadata": {},
   "outputs": [
    {
     "data": {
      "text/plain": [
       "<aidds.sys.init.AppInit at 0x7ca6a431efe0>"
      ]
     },
     "execution_count": 1,
     "metadata": {},
     "output_type": "execute_result"
    }
   ],
   "source": [
    "from aidds.sys.utils.exception import AppException\n",
    "from aidds.modeling.preprocessing import ModelingPreprocessing\n",
    "from aidds.modeling.scaling import Scaling\n",
    "from aidds.modeling.learning import Learning\n",
    "from aidds.sys.utils.data_io import get_scaling_data\n",
    "import aidds.sys.config as cfg\n",
    "from aidds.sys.init import AppInit\n",
    "\n",
    "AppInit()"
   ]
  },
  {
   "cell_type": "code",
   "execution_count": 2,
   "metadata": {},
   "outputs": [],
   "source": [
    "# try:\n",
    "#     pp = ModelingPreprocessing()\n",
    "# except AppException as ae:\n",
    "#     ae.print()"
   ]
  },
  {
   "cell_type": "code",
   "execution_count": 3,
   "metadata": {},
   "outputs": [],
   "source": [
    "# try:\n",
    "#     sc = Scaling()\n",
    "# except AppException as ae:\n",
    "#     ae.print()"
   ]
  },
  {
   "cell_type": "code",
   "execution_count": 4,
   "metadata": {},
   "outputs": [
    {
     "name": "stdout",
     "output_type": "stream",
     "text": [
      "[284ad78fcf57][2024-04-21 19:46:11.328712] Learning start.\n"
     ]
    },
    {
     "name": "stderr",
     "output_type": "stream",
     "text": [
      "/home/freeman/projects/aidds/sys/utils/data_io.py:32: DtypeWarning: Columns (0) have mixed types. Specify dtype option on import or set low_memory=False.\n",
      "  return pd.read_csv(file_path, **kwargs)\n"
     ]
    },
    {
     "name": "stdout",
     "output_type": "stream",
     "text": [
      "[284ad78fcf57][2024-04-21 19:46:11.778437]   Modeling data size: Index: 1, Total(13883, 99)train_x(10412, 99), test_x(3471, 99)\n",
      "[284ad78fcf57][2024-04-21 19:46:11.817063]   Change best model: {'score': -2.1476576108814373e+19, 'mape': 96732568.86785169, 'model': LinearRegression(), 'model_key': 'lin'}\n",
      "[284ad78fcf57][2024-04-21 19:46:13.389229]   Change best model: {'score': 0.6362374435617024, 'mape': 0.20542511745140477, 'model': Lasso(max_iter=3000), 'model_key': 'lasso'}\n",
      "[284ad78fcf57][2024-04-21 19:46:13.450469]   Change best model: {'score': 0.6363617877137453, 'mape': 0.20541251602218166, 'model': Ridge(), 'model_key': 'ridge'}\n",
      "[284ad78fcf57][2024-04-21 19:46:17.719204]   Change best model: {'score': 0.6698288888880559, 'mape': 0.19731023492637775, 'model': GradientBoostingRegressor(), 'model_key': 'gbr'}\n",
      "[284ad78fcf57][2024-04-21 19:46:18.570548]   Modeling data size: Index: 2, Total(11800, 99)train_x(8850, 99), test_x(2950, 99)\n",
      "[284ad78fcf57][2024-04-21 19:46:20.322576]   Change best model: {'score': 0.8447757511493381, 'mape': 0.12918045018777552, 'model': Lasso(max_iter=3000), 'model_key': 'lasso'}\n",
      "[284ad78fcf57][2024-04-21 19:46:20.489408]   Change best model: {'score': 0.8448339748741436, 'mape': 0.129147242539872, 'model': Ridge(), 'model_key': 'ridge'}\n",
      "[284ad78fcf57][2024-04-21 19:46:22.353124]   Change best model: {'score': 0.8870653487078849, 'mape': 0.11701435992270266, 'model': RandomForestRegressor(n_estimators=200, n_jobs=-1, random_state=1234), 'model_key': 'rfr'}\n",
      "[284ad78fcf57][2024-04-21 19:46:24.170450]   Change best model: {'score': 0.8878080294783871, 'mape': 0.11926763728170349, 'model': GradientBoostingRegressor(), 'model_key': 'gbr'}\n",
      "[284ad78fcf57][2024-04-21 19:46:24.920909]   Modeling data size: Index: 3, Total(10030, 99)train_x(7522, 99), test_x(2508, 99)\n",
      "[284ad78fcf57][2024-04-21 19:46:26.053681]   Change best model: {'score': 0.9033520782687817, 'mape': 0.10149022985279112, 'model': Lasso(max_iter=3000), 'model_key': 'lasso'}\n",
      "[284ad78fcf57][2024-04-21 19:46:26.198380]   Change best model: {'score': 0.9057398967663167, 'mape': 0.10141989709843174, 'model': Ridge(), 'model_key': 'ridge'}\n",
      "[284ad78fcf57][2024-04-21 19:46:27.656812]   Change best model: {'score': 0.9174531048131456, 'mape': 0.09028292697286344, 'model': RandomForestRegressor(n_estimators=200, n_jobs=-1, random_state=1234), 'model_key': 'rfr'}\n",
      "[284ad78fcf57][2024-04-21 19:46:29.113121]   Change best model: {'score': 0.9365156504736828, 'mape': 0.08838799345529044, 'model': GradientBoostingRegressor(), 'model_key': 'gbr'}\n",
      "[284ad78fcf57][2024-04-21 19:46:29.850818]   Modeling data size: Index: 4, Total(8525, 99)train_x(6393, 99), test_x(2132, 99)\n",
      "[284ad78fcf57][2024-04-21 19:46:33.737179]   Change best model: {'score': 0.9492683706821228, 'mape': 0.07311732348098592, 'model': GradientBoostingRegressor(), 'model_key': 'gbr'}\n",
      "[284ad78fcf57][2024-04-21 19:46:34.335225]   Modeling data size: Index: 5, Total(7246, 99)train_x(5434, 99), test_x(1812, 99)\n",
      "[284ad78fcf57][2024-04-21 19:46:37.441481]   Change best model: {'score': 0.9584059516822787, 'mape': 0.060533941458329306, 'model': GradientBoostingRegressor(), 'model_key': 'gbr'}\n",
      "[284ad78fcf57][2024-04-21 19:46:38.812467] Learning end., Total processing time: 0:00:27.483775\n"
     ]
    },
    {
     "name": "stderr",
     "output_type": "stream",
     "text": [
      "/home/freeman/projects/aidds/sys/utils/data_io.py:32: DtypeWarning: Columns (0) have mixed types. Specify dtype option on import or set low_memory=False.\n",
      "  return pd.read_csv(file_path, **kwargs)\n"
     ]
    }
   ],
   "source": [
    "try:\n",
    "    ll = Learning()\n",
    "except AppException as ae:\n",
    "    ae.print()"
   ]
  },
  {
   "cell_type": "code",
   "execution_count": 5,
   "metadata": {},
   "outputs": [],
   "source": [
    "# try:\n",
    "#     ll = Learning()\n",
    "# except AppException as ae:\n",
    "#     ae.print()"
   ]
  },
  {
   "cell_type": "code",
   "execution_count": null,
   "metadata": {},
   "outputs": [],
   "source": []
  }
 ],
 "metadata": {
  "kernelspec": {
   "display_name": "aidds",
   "language": "python",
   "name": "python3"
  },
  "language_info": {
   "codemirror_mode": {
    "name": "ipython",
    "version": 3
   },
   "file_extension": ".py",
   "mimetype": "text/x-python",
   "name": "python",
   "nbconvert_exporter": "python",
   "pygments_lexer": "ipython3",
   "version": "3.10.14"
  }
 },
 "nbformat": 4,
 "nbformat_minor": 2
}
