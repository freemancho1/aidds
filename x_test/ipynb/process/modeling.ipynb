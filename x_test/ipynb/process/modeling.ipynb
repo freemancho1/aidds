{
 "cells": [
  {
   "cell_type": "code",
   "execution_count": 1,
   "metadata": {},
   "outputs": [
    {
     "data": {
      "text/plain": [
       "<aidds.sys.init.AppInit at 0x779ff012c070>"
      ]
     },
     "execution_count": 1,
     "metadata": {},
     "output_type": "execute_result"
    }
   ],
   "source": [
    "from aidds.sys.utils.exception import AppException\n",
    "from aidds.modeling.preprocessing import ModelingPreprocessing\n",
    "from aidds.modeling.scaling import Scaling\n",
    "from aidds.modeling.learning import Learning\n",
    "from aidds.sys.utils.data_io import get_scaling_data\n",
    "import aidds.sys.config as cfg\n",
    "from aidds.sys.init import AppInit\n",
    "\n",
    "AppInit()"
   ]
  },
  {
   "cell_type": "code",
   "execution_count": 2,
   "metadata": {},
   "outputs": [],
   "source": [
    "# try:\n",
    "#     pp = ModelingPreprocessing()\n",
    "# except AppException as ae:\n",
    "#     ae.print()"
   ]
  },
  {
   "cell_type": "code",
   "execution_count": 3,
   "metadata": {},
   "outputs": [],
   "source": [
    "# try:\n",
    "#     sc = Scaling()\n",
    "# except AppException as ae:\n",
    "#     ae.print()"
   ]
  },
  {
   "cell_type": "code",
   "execution_count": 4,
   "metadata": {},
   "outputs": [
    {
     "name": "stdout",
     "output_type": "stream",
     "text": [
      "[6d6db94d889d][2024-04-20 16:59:55.368459] Learning start.\n",
      "[6d6db94d889d][2024-04-20 16:59:55.825613]   Modeling data size: Index: 1, Total(13416, 99)train_x(10062, 99), test_x(3354, 99)\n",
      "[6d6db94d889d][2024-04-20 16:59:55.884039]   Change best model: {'score': -1.349885460165129e+21, 'mape': 682661664.3895984, 'model': LinearRegression(), 'model_key': 'lin'}\n",
      "[6d6db94d889d][2024-04-20 16:59:57.311628]   Change best model: {'score': 0.685687240838152, 'mape': 0.2042621781393431, 'model': Lasso(max_iter=3000), 'model_key': 'lasso'}\n",
      "[6d6db94d889d][2024-04-20 16:59:57.448087]   Change best model: {'score': 0.6857413438485833, 'mape': 0.20430183405274135, 'model': Ridge(), 'model_key': 'ridge'}\n",
      "[6d6db94d889d][2024-04-20 17:00:01.183818]   Change best model: {'score': 0.7147966839288362, 'mape': 0.19406685729648582, 'model': GradientBoostingRegressor(), 'model_key': 'gbr'}\n",
      "[6d6db94d889d][2024-04-20 17:00:02.045943]   Modeling data size: Index: 2, Total(11403, 99)train_x(8552, 99), test_x(2851, 99)\n",
      "[6d6db94d889d][2024-04-20 17:00:04.105023]   Change best model: {'score': 0.817992443663223, 'mape': 0.12215297206653944, 'model': Lasso(max_iter=3000), 'model_key': 'lasso'}\n",
      "[6d6db94d889d][2024-04-20 17:00:05.853903]   Change best model: {'score': 0.8533307700578115, 'mape': 0.11237240812974192, 'model': RandomForestRegressor(n_estimators=200, n_jobs=-1, random_state=1234), 'model_key': 'rfr'}\n",
      "[6d6db94d889d][2024-04-20 17:00:07.474670]   Change best model: {'score': 0.866328702265817, 'mape': 0.1125052114319765, 'model': GradientBoostingRegressor(), 'model_key': 'gbr'}\n",
      "[6d6db94d889d][2024-04-20 17:00:08.246802]   Modeling data size: Index: 3, Total(9692, 99)train_x(7269, 99), test_x(2423, 99)\n",
      "[6d6db94d889d][2024-04-20 17:00:09.421473]   Change best model: {'score': 0.8853551185685133, 'mape': 0.09846261568006984, 'model': Lasso(max_iter=3000), 'model_key': 'lasso'}\n",
      "[6d6db94d889d][2024-04-20 17:00:09.553354]   Change best model: {'score': 0.8858710879856856, 'mape': 0.09831015677271049, 'model': Ridge(), 'model_key': 'ridge'}\n",
      "[6d6db94d889d][2024-04-20 17:00:10.927974]   Change best model: {'score': 0.9219360796396993, 'mape': 0.08659486518142717, 'model': RandomForestRegressor(n_estimators=200, n_jobs=-1, random_state=1234), 'model_key': 'rfr'}\n",
      "[6d6db94d889d][2024-04-20 17:00:12.312901]   Change best model: {'score': 0.9390515960654442, 'mape': 0.08363281818590458, 'model': GradientBoostingRegressor(), 'model_key': 'gbr'}\n",
      "[6d6db94d889d][2024-04-20 17:00:12.917896]   Modeling data size: Index: 4, Total(8238, 99)train_x(6178, 99), test_x(2060, 99)\n",
      "[6d6db94d889d][2024-04-20 17:00:15.346981]   Change best model: {'score': 0.9419072244763586, 'mape': 0.07410050458587208, 'model': RandomForestRegressor(n_estimators=200, n_jobs=-1, random_state=1234), 'model_key': 'rfr'}\n",
      "[6d6db94d889d][2024-04-20 17:00:16.605450]   Change best model: {'score': 0.9601376739112648, 'mape': 0.0696046788206376, 'model': GradientBoostingRegressor(), 'model_key': 'gbr'}\n",
      "[6d6db94d889d][2024-04-20 17:00:17.202573]   Modeling data size: Index: 5, Total(7002, 99)train_x(5251, 99), test_x(1751, 99)\n",
      "[6d6db94d889d][2024-04-20 17:00:19.304165]   Change best model: {'score': 0.9637159553834651, 'mape': 0.06121823547061831, 'model': RandomForestRegressor(n_estimators=200, n_jobs=-1, random_state=1234), 'model_key': 'rfr'}\n",
      "[6d6db94d889d][2024-04-20 17:00:20.329632]   Change best model: {'score': 0.9698594132777532, 'mape': 0.05742010272725811, 'model': GradientBoostingRegressor(), 'model_key': 'gbr'}\n",
      "[6d6db94d889d][2024-04-20 17:00:21.520068] Learning end., Total processing time: 0:00:26.151626\n"
     ]
    }
   ],
   "source": [
    "try:\n",
    "    ll = Learning()\n",
    "except AppException as ae:\n",
    "    ae.print()"
   ]
  },
  {
   "cell_type": "code",
   "execution_count": 5,
   "metadata": {},
   "outputs": [],
   "source": [
    "# try:\n",
    "#     ll = Learning()\n",
    "# except AppException as ae:\n",
    "#     ae.print()"
   ]
  },
  {
   "cell_type": "code",
   "execution_count": null,
   "metadata": {},
   "outputs": [],
   "source": []
  }
 ],
 "metadata": {
  "kernelspec": {
   "display_name": "aidds",
   "language": "python",
   "name": "python3"
  },
  "language_info": {
   "codemirror_mode": {
    "name": "ipython",
    "version": 3
   },
   "file_extension": ".py",
   "mimetype": "text/x-python",
   "name": "python",
   "nbconvert_exporter": "python",
   "pygments_lexer": "ipython3",
   "version": "3.10.14"
  }
 },
 "nbformat": 4,
 "nbformat_minor": 2
}
