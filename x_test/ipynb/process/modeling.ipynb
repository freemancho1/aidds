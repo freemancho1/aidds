{
 "cells": [
  {
   "cell_type": "code",
   "execution_count": 6,
   "metadata": {},
   "outputs": [
    {
     "data": {
      "text/plain": [
       "<aidds.sys.init.AppInit at 0x7fb67934c4f0>"
      ]
     },
     "execution_count": 6,
     "metadata": {},
     "output_type": "execute_result"
    }
   ],
   "source": [
    "from aidds_buy.sys.utils.exception import AppException\n",
    "from aidds_buy.modeling.preprocessing import ModelingPreprocessing\n",
    "from aidds_buy.modeling.scaling import Scaling\n",
    "from aidds_buy.modeling.learning import Learning\n",
    "from aidds_buy.sys.utils.data_io import get_scaling_data\n",
    "import aidds_buy.sys.config as cfg\n",
    "from aidds_buy.sys.init import AppInit\n",
    "\n",
    "AppInit()"
   ]
  },
  {
   "cell_type": "code",
   "execution_count": 7,
   "metadata": {},
   "outputs": [],
   "source": [
    "# try:\n",
    "#     pp = ModelingPreprocessing()\n",
    "# except AppException as ae:\n",
    "#     ae.print()"
   ]
  },
  {
   "cell_type": "code",
   "execution_count": 8,
   "metadata": {},
   "outputs": [],
   "source": [
    "# try:\n",
    "#     sc = Scaling()\n",
    "# except AppException as ae:\n",
    "#     ae.print()"
   ]
  },
  {
   "cell_type": "code",
   "execution_count": 9,
   "metadata": {},
   "outputs": [
    {
     "name": "stdout",
     "output_type": "stream",
     "text": [
      "[c338aedf3a53][2024-04-22 13:27:07.679209] Learning start.\n"
     ]
    },
    {
     "name": "stderr",
     "output_type": "stream",
     "text": [
      "/home/freeman/projects/aidds/sys/utils/data_io.py:32: DtypeWarning: Columns (0) have mixed types. Specify dtype option on import or set low_memory=False.\n",
      "  return pd.read_csv(file_path, **kwargs)\n"
     ]
    },
    {
     "name": "stdout",
     "output_type": "stream",
     "text": [
      "[c338aedf3a53][2024-04-22 13:27:08.407744]   Modeling data size: Index: 1, Total(13883, 99)train_x(10412, 99), test_x(3471, 99)\n",
      "[c338aedf3a53][2024-04-22 13:27:08.501539]   Change best model: {'score': -3.5530784211272733e+19, 'mape': 36793368.13386464, 'model': LinearRegression(), 'model_key': 'lin'}\n",
      "[c338aedf3a53][2024-04-22 13:27:29.769078]   Change best model: {'score': 0.690298132457013, 'mape': 0.20433584771533858, 'model': Lasso(max_iter=3000), 'model_key': 'lasso'}\n",
      "[c338aedf3a53][2024-04-22 13:27:30.045928]   Change best model: {'score': 0.6903393287896611, 'mape': 0.20431937373548706, 'model': Ridge(), 'model_key': 'ridge'}\n",
      "[c338aedf3a53][2024-04-22 13:27:34.089066]   Change best model: {'score': 0.7080829771818832, 'mape': 0.19884115958459053, 'model': GradientBoostingRegressor(), 'model_key': 'gbr'}\n",
      "[c338aedf3a53][2024-04-22 13:27:40.538949]   Modeling data size: Index: 2, Total(11800, 99)train_x(8850, 99), test_x(2950, 99)\n",
      "[c338aedf3a53][2024-04-22 13:27:43.893672]   Change best model: {'score': 0.8360158371529187, 'mape': 0.1325766710608637, 'model': Lasso(max_iter=3000), 'model_key': 'lasso'}\n",
      "[c338aedf3a53][2024-04-22 13:27:45.524901]   Change best model: {'score': 0.8742037862787279, 'mape': 0.11861998549860338, 'model': RandomForestRegressor(n_estimators=200, n_jobs=-1, random_state=1234), 'model_key': 'rfr'}\n",
      "[c338aedf3a53][2024-04-22 13:27:47.622780]   Change best model: {'score': 0.8851715839253195, 'mape': 0.11827463702578804, 'model': GradientBoostingRegressor(), 'model_key': 'gbr'}\n",
      "[c338aedf3a53][2024-04-22 13:27:49.227449]   Modeling data size: Index: 3, Total(10030, 99)train_x(7522, 99), test_x(2508, 99)\n",
      "[c338aedf3a53][2024-04-22 13:27:52.172049]   Change best model: {'score': 0.888884754247339, 'mape': 0.10460723024523011, 'model': Lasso(max_iter=3000), 'model_key': 'lasso'}\n",
      "[c338aedf3a53][2024-04-22 13:27:52.411332]   Change best model: {'score': 0.8896121977464444, 'mape': 0.10445215484310354, 'model': Ridge(), 'model_key': 'ridge'}\n",
      "[c338aedf3a53][2024-04-22 13:27:53.616120]   Change best model: {'score': 0.9343958110899971, 'mape': 0.09155874813926868, 'model': RandomForestRegressor(n_estimators=200, n_jobs=-1, random_state=1234), 'model_key': 'rfr'}\n",
      "[c338aedf3a53][2024-04-22 13:27:55.395498]   Change best model: {'score': 0.9513425835241852, 'mape': 0.08875024308078734, 'model': GradientBoostingRegressor(), 'model_key': 'gbr'}\n",
      "[c338aedf3a53][2024-04-22 13:27:56.955348]   Modeling data size: Index: 4, Total(8525, 99)train_x(6393, 99), test_x(2132, 99)\n",
      "[c338aedf3a53][2024-04-22 13:28:00.737205]   Change best model: {'score': 0.9582333354396497, 'mape': 0.07424557212924633, 'model': RandomForestRegressor(n_estimators=200, n_jobs=-1, random_state=1234), 'model_key': 'rfr'}\n",
      "[c338aedf3a53][2024-04-22 13:28:02.362257]   Change best model: {'score': 0.9701381763347298, 'mape': 0.07142163451336435, 'model': GradientBoostingRegressor(), 'model_key': 'gbr'}\n",
      "[c338aedf3a53][2024-04-22 13:28:03.673059]   Modeling data size: Index: 5, Total(7246, 99)train_x(5434, 99), test_x(1812, 99)\n",
      "[c338aedf3a53][2024-04-22 13:28:08.039727]   Change best model: {'score': 0.9708030510633117, 'mape': 0.06065657811974364, 'model': GradientBoostingRegressor(), 'model_key': 'gbr'}\n",
      "[c338aedf3a53][2024-04-22 13:28:10.447375] Learning end., Total processing time: 0:01:02.768259\n"
     ]
    }
   ],
   "source": [
    "try:\n",
    "    ll = Learning()\n",
    "except AppException as ae:\n",
    "    ae.print()"
   ]
  },
  {
   "cell_type": "code",
   "execution_count": 10,
   "metadata": {},
   "outputs": [],
   "source": [
    "# try:\n",
    "#     ll = Learning()\n",
    "# except AppException as ae:\n",
    "#     ae.print()"
   ]
  },
  {
   "cell_type": "code",
   "execution_count": null,
   "metadata": {},
   "outputs": [],
   "source": []
  }
 ],
 "metadata": {
  "kernelspec": {
   "display_name": "aidds",
   "language": "python",
   "name": "python3"
  },
  "language_info": {
   "codemirror_mode": {
    "name": "ipython",
    "version": 3
   },
   "file_extension": ".py",
   "mimetype": "text/x-python",
   "name": "python",
   "nbconvert_exporter": "python",
   "pygments_lexer": "ipython3",
   "version": "3.10.14"
  }
 },
 "nbformat": 4,
 "nbformat_minor": 2
}
