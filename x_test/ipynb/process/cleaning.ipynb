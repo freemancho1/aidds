{
 "cells": [
  {
   "cell_type": "code",
   "execution_count": 3,
   "metadata": {},
   "outputs": [],
   "source": [
    "from aidds.sys.utils.exception import AppException\n",
    "from aidds.cleaning.cleaning import Cleaning"
   ]
  },
  {
   "cell_type": "code",
   "execution_count": 2,
   "metadata": {},
   "outputs": [
    {
     "name": "stdout",
     "output_type": "stream",
     "text": [
      "[6964578368ca][2024-04-19 20:23:54.727143] Cleaning provided data start.\n",
      "[61642c5c5a65][2024-04-19 20:23:54.727232]   Fetching provided data start.\n",
      "[61642c5c5a65][2024-04-19 20:24:14.148946]     Get CONS dataset: size(19052, 143), processing time 0:00:19.421657\n",
      "[61642c5c5a65][2024-04-19 20:24:38.432938]     Get POLE dataset: size(38533, 63), processing time 0:00:24.283895\n",
      "[61642c5c5a65][2024-04-19 20:25:00.873056]     Get LINE dataset: size(40019, 77), processing time 0:00:22.440018\n",
      "[61642c5c5a65][2024-04-19 20:25:13.181281]     Get SL dataset: size(22632, 57), processing time 0:00:12.308132\n",
      "[61642c5c5a65][2024-04-19 20:25:13.181348]   Fetching provided data end., Total processing time: 0:01:18.454133\n",
      "[6964578368ca][2024-04-19 20:25:13.269742]   CONS dataset cleaning: (15474, 5)\n",
      "[6964578368ca][2024-04-19 20:25:13.303949]   POLE dataset cleaning: (28121, 4)\n",
      "[6964578368ca][2024-04-19 20:25:13.372120]   LINE dataset cleaning: (30617, 8)\n",
      "[6964578368ca][2024-04-19 20:25:13.396883]   SL dataset cleaning: (17222, 5)\n",
      "[6964578368ca][2024-04-19 20:25:13.398681] Cleaning provided data end., Total processing time: 0:01:18.671563\n"
     ]
    }
   ],
   "source": [
    "try:\n",
    "    cc = Cleaning()\n",
    "except AppException as ae:\n",
    "    ae.print()"
   ]
  },
  {
   "cell_type": "code",
   "execution_count": null,
   "metadata": {},
   "outputs": [],
   "source": []
  }
 ],
 "metadata": {
  "kernelspec": {
   "display_name": "aidds",
   "language": "python",
   "name": "python3"
  },
  "language_info": {
   "codemirror_mode": {
    "name": "ipython",
    "version": 3
   },
   "file_extension": ".py",
   "mimetype": "text/x-python",
   "name": "python",
   "nbconvert_exporter": "python",
   "pygments_lexer": "ipython3",
   "version": "3.10.14"
  }
 },
 "nbformat": 4,
 "nbformat_minor": 2
}
