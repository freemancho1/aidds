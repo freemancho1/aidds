{
 "cells": [
  {
   "cell_type": "code",
   "execution_count": 1,
   "metadata": {},
   "outputs": [],
   "source": [
    "from aidds.sys.utils.exception import AiddsException\n",
    "from aidds.modeling.scaler_test import Scaling \n",
    "from aidds.modeling.learn_test import Learning\n",
    "import aidds.sys.config as cfg\n",
    "from aidds.sys.utils.evaluation import regression_evals\n",
    "import pandas as pd"
   ]
  },
  {
   "cell_type": "code",
   "execution_count": 2,
   "metadata": {},
   "outputs": [
    {
     "name": "stdout",
     "output_type": "stream",
     "text": [
      "[615031e31ce0][2024-04-16 21:14:36.647685] Preprocessing data scaling start.\n",
      "[615031e31ce0][2024-04-16 21:14:36.785296]   Total size of attribute data for learning: (10968, 99)\n",
      "[615031e31ce0][2024-04-16 21:14:36.795124]   Data size of training/testing data by pole count: pc_type[all] - total(10968, 99), train(8226, 99), test(2742, 99)\n",
      "[615031e31ce0][2024-04-16 21:14:36.845774]   Data size of training/testing data by pole count: pc_type[e1] - total(6611, 99), train(4958, 99), test(1653, 99)\n",
      "[615031e31ce0][2024-04-16 21:14:36.886669]   Data size of training/testing data by pole count: pc_type[n1] - total(4357, 99), train(3267, 99), test(1090, 99)\n",
      "[615031e31ce0][2024-04-16 21:14:41.498591] Preprocessing data scaling end., Total processing time: 0:00:04.850927\n",
      "[7c1f51102e7f][2024-04-16 21:14:41.498712] Learning start.\n",
      "[7c1f51102e7f][2024-04-16 21:14:41.634867]   Model training results: Data[ALL] - MAPE: 0.499806, R2SCORE: 0.570910\n",
      "[7c1f51102e7f][2024-04-16 21:14:41.641450]   Model training results: Data[E1] - MAPE: 1.359842, R2SCORE: -13.100906\n",
      "[7c1f51102e7f][2024-04-16 21:14:41.731861]   Model training results: Data[N1] - MAPE: 0.062603, R2SCORE: 0.953487\n",
      "[7c1f51102e7f][2024-04-16 21:14:41.731929] Learning end., Total processing time: 0:00:00.233236\n"
     ]
    }
   ],
   "source": [
    "try:\n",
    "    sc = Scaling(is_best=True)\n",
    "    ln = Learning(scaling_data=sc.sdata)\n",
    "except AiddsException as ae:\n",
    "    ae.print()"
   ]
  },
  {
   "cell_type": "code",
   "execution_count": 3,
   "metadata": {},
   "outputs": [
    {
     "data": {
      "text/plain": [
       "{'all': RandomForestRegressor(n_estimators=200, n_jobs=-1, random_state=1234),\n",
       " 'e1': ElasticNet(alpha=0.1, random_state=1234),\n",
       " 'n1': RandomForestRegressor(n_estimators=200, n_jobs=-1, random_state=1234)}"
      ]
     },
     "execution_count": 3,
     "metadata": {},
     "output_type": "execute_result"
    }
   ],
   "source": [
    "ln._best"
   ]
  },
  {
   "cell_type": "code",
   "execution_count": 4,
   "metadata": {},
   "outputs": [
    {
     "ename": "TypeError",
     "evalue": "list indices must be integers or slices, not str",
     "output_type": "error",
     "traceback": [
      "\u001b[0;31m---------------------------------------------------------------------------\u001b[0m",
      "\u001b[0;31mTypeError\u001b[0m                                 Traceback (most recent call last)",
      "Cell \u001b[0;32mIn[4], line 1\u001b[0m\n\u001b[0;32m----> 1\u001b[0m model \u001b[38;5;241m=\u001b[39m \u001b[43mln\u001b[49m\u001b[38;5;241;43m.\u001b[39;49m\u001b[43m_best\u001b[49m\u001b[43m[\u001b[49m\u001b[38;5;124;43m'\u001b[39;49m\u001b[38;5;124;43mall\u001b[39;49m\u001b[38;5;124;43m'\u001b[39;49m\u001b[43m]\u001b[49m\u001b[43m[\u001b[49m\u001b[38;5;124;43m'\u001b[39;49m\u001b[38;5;124;43mmodel\u001b[39;49m\u001b[38;5;124;43m'\u001b[39;49m\u001b[43m]\u001b[49m\n\u001b[1;32m      2\u001b[0m ddict \u001b[38;5;241m=\u001b[39m {did: ln\u001b[38;5;241m.\u001b[39m_sdict[did][\u001b[38;5;124m'\u001b[39m\u001b[38;5;124mall\u001b[39m\u001b[38;5;124m'\u001b[39m] \u001b[38;5;28;01mfor\u001b[39;00m did \u001b[38;5;129;01min\u001b[39;00m cfg\u001b[38;5;241m.\u001b[39mtype\u001b[38;5;241m.\u001b[39mmds\u001b[38;5;241m.\u001b[39mids}\n",
      "File \u001b[0;32m~/anaconda3/envs/aidds/lib/python3.10/site-packages/sklearn/ensemble/_base.py:158\u001b[0m, in \u001b[0;36mBaseEnsemble.__getitem__\u001b[0;34m(self, index)\u001b[0m\n\u001b[1;32m    156\u001b[0m \u001b[38;5;28;01mdef\u001b[39;00m \u001b[38;5;21m__getitem__\u001b[39m(\u001b[38;5;28mself\u001b[39m, index):\n\u001b[1;32m    157\u001b[0m \u001b[38;5;250m    \u001b[39m\u001b[38;5;124;03m\"\"\"Return the index'th estimator in the ensemble.\"\"\"\u001b[39;00m\n\u001b[0;32m--> 158\u001b[0m     \u001b[38;5;28;01mreturn\u001b[39;00m \u001b[38;5;28;43mself\u001b[39;49m\u001b[38;5;241;43m.\u001b[39;49m\u001b[43mestimators_\u001b[49m\u001b[43m[\u001b[49m\u001b[43mindex\u001b[49m\u001b[43m]\u001b[49m\n",
      "\u001b[0;31mTypeError\u001b[0m: list indices must be integers or slices, not str"
     ]
    }
   ],
   "source": [
    "model = ln._best['all']['model']\n",
    "ddict = {did: ln._sdict[did]['all'] for did in cfg.type.mds.ids}"
   ]
  },
  {
   "cell_type": "code",
   "execution_count": null,
   "metadata": {},
   "outputs": [],
   "source": [
    "train_x = pd.concat([ddict['train_x'], ddict['test_x']])\n",
    "train_y = pd.concat([ddict['train_y'], ddict['test_y']])"
   ]
  },
  {
   "cell_type": "code",
   "execution_count": null,
   "metadata": {},
   "outputs": [
    {
     "data": {
      "text/plain": [
       "(10968, 99)"
      ]
     },
     "execution_count": 6,
     "metadata": {},
     "output_type": "execute_result"
    }
   ],
   "source": [
    "train_x.shape"
   ]
  },
  {
   "cell_type": "code",
   "execution_count": null,
   "metadata": {},
   "outputs": [],
   "source": [
    "modeling_cols = ddict['train_x'].columns.tolist()[1:]"
   ]
  },
  {
   "cell_type": "code",
   "execution_count": null,
   "metadata": {},
   "outputs": [],
   "source": [
    "pred_y = model.predict(train_x[modeling_cols])"
   ]
  },
  {
   "cell_type": "code",
   "execution_count": null,
   "metadata": {},
   "outputs": [],
   "source": [
    "train_y = train_y.to_numpy()"
   ]
  },
  {
   "cell_type": "code",
   "execution_count": null,
   "metadata": {},
   "outputs": [],
   "source": [
    "evals, message = \\\n",
    "    regression_evals(y=train_y, p=pred_y, verbose=1)"
   ]
  },
  {
   "cell_type": "code",
   "execution_count": null,
   "metadata": {},
   "outputs": [
    {
     "data": {
      "text/plain": [
       "'MAPE: 0.505013, R2SCORE: 0.585906'"
      ]
     },
     "execution_count": 11,
     "metadata": {},
     "output_type": "execute_result"
    }
   ],
   "source": [
    "message"
   ]
  },
  {
   "cell_type": "code",
   "execution_count": null,
   "metadata": {},
   "outputs": [],
   "source": []
  }
 ],
 "metadata": {
  "kernelspec": {
   "display_name": "aidds",
   "language": "python",
   "name": "python3"
  },
  "language_info": {
   "codemirror_mode": {
    "name": "ipython",
    "version": 3
   },
   "file_extension": ".py",
   "mimetype": "text/x-python",
   "name": "python",
   "nbconvert_exporter": "python",
   "pygments_lexer": "ipython3",
   "version": "3.10.14"
  }
 },
 "nbformat": 4,
 "nbformat_minor": 2
}
