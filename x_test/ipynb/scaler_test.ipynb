{
 "cells": [
  {
   "cell_type": "code",
   "execution_count": 1,
   "metadata": {},
   "outputs": [],
   "source": [
    "from aidds.sys.utils.exception import AiddsException\n",
    "from aidds.modeling.scaler import Scaling \n",
    "from aidds.modeling.learn import Learning\n",
    "import aidds.sys.config as cfg\n",
    "from aidds.sys.utils.evaluation import regression_evals\n",
    "import pandas as pd"
   ]
  },
  {
   "cell_type": "code",
   "execution_count": 2,
   "metadata": {},
   "outputs": [
    {
     "name": "stdout",
     "output_type": "stream",
     "text": [
      "[0a98f214f2c0][2024-04-17 14:46:56.300995] Preprocessing data scaling start.\n",
      "[0a98f214f2c0][2024-04-17 14:46:56.423537]   Total size of attribute data for learning: (10963, 98)\n",
      "[0a98f214f2c0][2024-04-17 14:46:56.428912]   Data size of training/testing data by pole count: pc_type[all] - total(10963, 98), train(8222, 98), test(2741, 98)\n",
      "[0a98f214f2c0][2024-04-17 14:46:56.454401]   Data size of training/testing data by pole count: pc_type[e1] - total(6635, 98), train(4976, 98), test(1659, 98)\n",
      "[0a98f214f2c0][2024-04-17 14:46:56.477190]   Data size of training/testing data by pole count: pc_type[n1] - total(4328, 98), train(3246, 98), test(1082, 98)\n",
      "[0a98f214f2c0][2024-04-17 14:47:00.349435] Preprocessing data scaling end., Total processing time: 0:00:04.048421\n",
      "[45b8ed18cd34][2024-04-17 14:47:00.349997] Learning start.\n"
     ]
    },
    {
     "name": "stderr",
     "output_type": "stream",
     "text": [
      "/home/freeman/anaconda3/envs/aidds/lib/python3.10/site-packages/sklearn/linear_model/_coordinate_descent.py:678: ConvergenceWarning: Objective did not converge. You might want to increase the number of iterations, check the scale of the features or consider increasing regularisation. Duality gap: 4.382e+15, tolerance: 8.284e+12\n",
      "  model = cd_fast.enet_coordinate_descent(\n",
      "/home/freeman/anaconda3/envs/aidds/lib/python3.10/site-packages/sklearn/linear_model/_coordinate_descent.py:678: ConvergenceWarning: Objective did not converge. You might want to increase the number of iterations, check the scale of the features or consider increasing regularisation. Duality gap: 3.628e+14, tolerance: 5.777e+11\n",
      "  model = cd_fast.enet_coordinate_descent(\n",
      "/home/freeman/anaconda3/envs/aidds/lib/python3.10/site-packages/sklearn/linear_model/_coordinate_descent.py:678: ConvergenceWarning: Objective did not converge. You might want to increase the number of iterations, check the scale of the features or consider increasing regularisation. Duality gap: 3.728e+15, tolerance: 4.959e+12\n",
      "  model = cd_fast.enet_coordinate_descent(\n"
     ]
    },
    {
     "name": "stdout",
     "output_type": "stream",
     "text": [
      "{'all': {'model': GradientBoostingRegressor(), 'score': 0.9116274609946394, 'mape': 0.10390456815923603, 'model_key': 'gbr'}, 'e1': {'model': RandomForestRegressor(n_estimators=200, n_jobs=-1, random_state=1234), 'score': 0.7491454709387149, 'mape': 0.10408537684781527, 'model_key': 'rfr'}, 'n1': {'model': RandomForestRegressor(n_estimators=200, n_jobs=-1, random_state=1234), 'score': 0.8526525655217254, 'mape': 0.1152456588322366, 'model_key': 'rfr'}}\n",
      "-0.3868063734903075\n",
      "[45b8ed18cd34][2024-04-17 14:47:13.017219]   Model training results: [모델 그대로 사용] - MAPE: 0.103905, R2SCORE: 0.911627\n",
      "[45b8ed18cd34][2024-04-17 14:47:13.023595]   Model training results: [읽어들인 모델 사용] - MAPE: 0.103905, R2SCORE: 0.911627\n",
      "-0.3868063734903075\n",
      "{'all': {'model': GradientBoostingRegressor(), 'score': 0.9116274609946394, 'mape': 0.10390456815923603, 'model_key': 'gbr'}, 'e1': {'model': RandomForestRegressor(n_estimators=200, n_jobs=-1, random_state=1234), 'score': 0.7491454709387149, 'mape': 0.10408537684781527, 'model_key': 'rfr'}, 'n1': {'model': RandomForestRegressor(n_estimators=200, n_jobs=-1, random_state=1234), 'score': 0.8526525655217254, 'mape': 0.1152456588322366, 'model_key': 'rfr'}}\n",
      "[45b8ed18cd34][2024-04-17 14:47:13.030540]   Model training results: [1111111111] - MAPE: 0.103905, R2SCORE: 0.911627\n",
      "-0.3868063734903075\n",
      "{'all': {'model': GradientBoostingRegressor(), 'score': 0.9116274609946394, 'mape': 0.10390456815923603, 'model_key': 'gbr'}, 'e1': {'model': GradientBoostingRegressor(), 'score': 0.7734945176988901, 'mape': 0.09855364022973306, 'model_key': 'gbr'}, 'n1': {'model': GradientBoostingRegressor(), 'score': 0.8712469407446384, 'mape': 0.11173733296563843, 'model_key': 'gbr'}}\n",
      "[45b8ed18cd34][2024-04-17 14:47:17.426000]   Model training results: [1111111111] - MAPE: 0.507407, R2SCORE: 0.561654\n",
      "-0.3868063734903075\n",
      "{'all': {'model': GradientBoostingRegressor(), 'score': 0.9116274609946394, 'mape': 0.10390456815923603, 'model_key': 'gbr'}, 'e1': {'model': GradientBoostingRegressor(), 'score': 0.7734945176988901, 'mape': 0.09855364022973306, 'model_key': 'gbr'}, 'n1': {'model': GradientBoostingRegressor(), 'score': 0.8712469407446384, 'mape': 0.11173733296563843, 'model_key': 'gbr'}}\n",
      "[45b8ed18cd34][2024-04-17 14:47:17.434960]   Model training results: [1111111111] - MAPE: 0.507407, R2SCORE: 0.561654\n",
      "-0.3868063734903075\n",
      "{'all': {'model': GradientBoostingRegressor(), 'score': 0.9116274609946394, 'mape': 0.10390456815923603, 'model_key': 'gbr'}, 'e1': {'model': GradientBoostingRegressor(), 'score': 0.7734945176988901, 'mape': 0.09855364022973306, 'model_key': 'gbr'}, 'n1': {'model': GradientBoostingRegressor(), 'score': 0.8712469407446384, 'mape': 0.11173733296563843, 'model_key': 'gbr'}}\n",
      "[45b8ed18cd34][2024-04-17 14:47:17.449524]   Model training results: [1111111111] - MAPE: 0.507407, R2SCORE: 0.561654\n",
      "-0.3868063734903075\n",
      "{'all': {'model': GradientBoostingRegressor(), 'score': 0.9116274609946394, 'mape': 0.10390456815923603, 'model_key': 'gbr'}, 'e1': {'model': GradientBoostingRegressor(), 'score': 0.7734945176988901, 'mape': 0.09855364022973306, 'model_key': 'gbr'}, 'n1': {'model': GradientBoostingRegressor(), 'score': 0.8712469407446384, 'mape': 0.11173733296563843, 'model_key': 'gbr'}}\n",
      "[45b8ed18cd34][2024-04-17 14:47:17.456593]   Model training results: [1111111111] - MAPE: 0.507407, R2SCORE: 0.561654\n",
      "[45b8ed18cd34][2024-04-17 14:47:17.456642] Learning end., Total processing time: 0:00:17.106728\n"
     ]
    }
   ],
   "source": [
    "try:\n",
    "    sc = Scaling(is_best=True)\n",
    "    ln = Learning(scaling_data=sc.sdata)\n",
    "except AiddsException as ae:\n",
    "    ae.print()"
   ]
  },
  {
   "cell_type": "code",
   "execution_count": 3,
   "metadata": {},
   "outputs": [
    {
     "data": {
      "text/plain": [
       "{'all': {'model': GradientBoostingRegressor(),\n",
       "  'score': 0.9116274609946394,\n",
       "  'mape': 0.10390456815923603,\n",
       "  'model_key': 'gbr'},\n",
       " 'e1': {'model': GradientBoostingRegressor(),\n",
       "  'score': 0.7734945176988901,\n",
       "  'mape': 0.09855364022973306,\n",
       "  'model_key': 'gbr'},\n",
       " 'n1': {'model': GradientBoostingRegressor(),\n",
       "  'score': 0.8712469407446384,\n",
       "  'mape': 0.11173733296563843,\n",
       "  'model_key': 'gbr'}}"
      ]
     },
     "execution_count": 3,
     "metadata": {},
     "output_type": "execute_result"
    }
   ],
   "source": [
    "ln._best"
   ]
  },
  {
   "cell_type": "code",
   "execution_count": 4,
   "metadata": {},
   "outputs": [],
   "source": [
    "model = ln._best['all']['model']\n",
    "ddict = {did: ln._sdict[did]['all'] for did in cfg.type.mds.ids}"
   ]
  },
  {
   "cell_type": "code",
   "execution_count": 5,
   "metadata": {},
   "outputs": [
    {
     "data": {
      "text/plain": [
       "dict_keys(['train_x', 'test_x', 'train_y', 'test_y'])"
      ]
     },
     "execution_count": 5,
     "metadata": {},
     "output_type": "execute_result"
    }
   ],
   "source": [
    "ddict.keys()"
   ]
  },
  {
   "cell_type": "code",
   "execution_count": 6,
   "metadata": {},
   "outputs": [
    {
     "data": {
      "text/plain": [
       "pandas.core.frame.DataFrame"
      ]
     },
     "execution_count": 6,
     "metadata": {},
     "output_type": "execute_result"
    }
   ],
   "source": [
    "type(ddict['train_x'])"
   ]
  },
  {
   "cell_type": "code",
   "execution_count": 7,
   "metadata": {},
   "outputs": [],
   "source": [
    "# train_x = pd.concat([ddict['train_x'], ddict['test_x']])\n",
    "# train_y = pd.concat([ddict['train_y'], ddict['test_y']])\n",
    "train_x = ddict['test_x']\n",
    "train_y = ddict['test_y']"
   ]
  },
  {
   "cell_type": "code",
   "execution_count": 8,
   "metadata": {},
   "outputs": [
    {
     "data": {
      "text/plain": [
       "(2741, 98)"
      ]
     },
     "execution_count": 8,
     "metadata": {},
     "output_type": "execute_result"
    }
   ],
   "source": [
    "train_x.shape"
   ]
  },
  {
   "cell_type": "code",
   "execution_count": 9,
   "metadata": {},
   "outputs": [],
   "source": [
    "# modeling_cols = ddict['train_x'].columns.tolist()[1:]\n",
    "modeling_cols = ddict['train_x'].columns.tolist()"
   ]
  },
  {
   "cell_type": "code",
   "execution_count": 10,
   "metadata": {},
   "outputs": [],
   "source": [
    "pred_y = model.predict(train_x[modeling_cols])"
   ]
  },
  {
   "cell_type": "code",
   "execution_count": 11,
   "metadata": {},
   "outputs": [],
   "source": [
    "train_y = train_y.to_numpy()"
   ]
  },
  {
   "cell_type": "code",
   "execution_count": 12,
   "metadata": {},
   "outputs": [],
   "source": [
    "evals, message = \\\n",
    "    regression_evals(y=train_y, p=pred_y, verbose=1)"
   ]
  },
  {
   "cell_type": "code",
   "execution_count": 13,
   "metadata": {},
   "outputs": [
    {
     "data": {
      "text/plain": [
       "'MAPE: 0.507407, R2SCORE: 0.561654'"
      ]
     },
     "execution_count": 13,
     "metadata": {},
     "output_type": "execute_result"
    }
   ],
   "source": [
    "message"
   ]
  },
  {
   "cell_type": "code",
   "execution_count": null,
   "metadata": {},
   "outputs": [],
   "source": []
  }
 ],
 "metadata": {
  "kernelspec": {
   "display_name": "aidds",
   "language": "python",
   "name": "python3"
  },
  "language_info": {
   "codemirror_mode": {
    "name": "ipython",
    "version": 3
   },
   "file_extension": ".py",
   "mimetype": "text/x-python",
   "name": "python",
   "nbconvert_exporter": "python",
   "pygments_lexer": "ipython3",
   "version": "3.10.14"
  }
 },
 "nbformat": 4,
 "nbformat_minor": 2
}
