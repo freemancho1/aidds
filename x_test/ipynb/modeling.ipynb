{
 "cells": [
  {
   "cell_type": "code",
   "execution_count": 1,
   "metadata": {},
   "outputs": [],
   "source": [
    "import aidds.sys.config as cfg\n",
    "from aidds.sys.utils.data_io import read_data\n",
    "from aidds.sys.utils.evaluation import regression_evals\n",
    "from aidds.sys.utils.exception import AiddsException\n",
    "from sklearn.model_selection import train_test_split"
   ]
  },
  {
   "cell_type": "code",
   "execution_count": 2,
   "metadata": {},
   "outputs": [],
   "source": [
    "ppdf = read_data(file_code='data.pp.last')"
   ]
  },
  {
   "cell_type": "code",
   "execution_count": 3,
   "metadata": {},
   "outputs": [
    {
     "name": "stdout",
     "output_type": "stream",
     "text": [
      "<class 'pandas.core.frame.DataFrame'>\n",
      "RangeIndex: 13416 entries, 0 to 13415\n",
      "Data columns (total 100 columns):\n",
      " #   Column              Non-Null Count  Dtype  \n",
      "---  ------              --------------  -----  \n",
      " 0   acc_no              13416 non-null  object \n",
      " 1   cons_cost           13416 non-null  int64  \n",
      " 2   cont_cap            13416 non-null  int64  \n",
      " 3   sup_type            13416 non-null  int64  \n",
      " 4   office_id           13416 non-null  int64  \n",
      " 5   pole_cnt            13416 non-null  float64\n",
      " 6   line_cnt            13416 non-null  float64\n",
      " 7   sl_cnt              13416 non-null  float64\n",
      " 8   pole_shape_G        13416 non-null  int64  \n",
      " 9   pole_shape_O        13416 non-null  int64  \n",
      " 10  pole_shape_V        13416 non-null  int64  \n",
      " 11  pole_type_0         13416 non-null  int64  \n",
      " 12  pole_type_1         13416 non-null  int64  \n",
      " 13  pole_type_B         13416 non-null  int64  \n",
      " 14  pole_type_C         13416 non-null  int64  \n",
      " 15  pole_type_E         13416 non-null  int64  \n",
      " 16  pole_type_H         13416 non-null  int64  \n",
      " 17  pole_type_M         13416 non-null  int64  \n",
      " 18  pole_type_R         13416 non-null  int64  \n",
      " 19  pole_spec_0.0       13416 non-null  int64  \n",
      " 20  pole_spec_6.0       13416 non-null  int64  \n",
      " 21  pole_spec_8.0       13416 non-null  int64  \n",
      " 22  pole_spec_10.0      13416 non-null  int64  \n",
      " 23  pole_spec_11.0      13416 non-null  int64  \n",
      " 24  pole_spec_12.0      13416 non-null  int64  \n",
      " 25  pole_spec_14.0      13416 non-null  int64  \n",
      " 26  pole_spec_16.0      13416 non-null  int64  \n",
      " 27  span                13416 non-null  int64  \n",
      " 28  line_length         13416 non-null  int64  \n",
      " 29  wiring_scheme_13    13416 non-null  int64  \n",
      " 30  wiring_scheme_43    13416 non-null  int64  \n",
      " 31  line_type_AO        13416 non-null  int64  \n",
      " 32  line_type_C1        13416 non-null  int64  \n",
      " 33  line_type_C2        13416 non-null  int64  \n",
      " 34  line_type_C4        13416 non-null  int64  \n",
      " 35  line_type_D2        13416 non-null  int64  \n",
      " 36  line_type_D4        13416 non-null  int64  \n",
      " 37  line_type_EW        13416 non-null  int64  \n",
      " 38  line_type_OC        13416 non-null  int64  \n",
      " 39  line_type_OW        13416 non-null  int64  \n",
      " 40  line_spec_3.2       13416 non-null  int64  \n",
      " 41  line_spec_22.0      13416 non-null  int64  \n",
      " 42  line_spec_25.0      13416 non-null  int64  \n",
      " 43  line_spec_32.0      13416 non-null  int64  \n",
      " 44  line_spec_35.0      13416 non-null  int64  \n",
      " 45  line_spec_38.0      13416 non-null  int64  \n",
      " 46  line_spec_58.0      13416 non-null  int64  \n",
      " 47  line_spec_60.0      13416 non-null  int64  \n",
      " 48  line_spec_70.0      13416 non-null  int64  \n",
      " 49  line_spec_100.0     13416 non-null  int64  \n",
      " 50  line_phase_1        13416 non-null  int64  \n",
      " 51  line_phase_2        13416 non-null  int64  \n",
      " 52  line_phase_3        13416 non-null  int64  \n",
      " 53  neutral_type_AL     13416 non-null  int64  \n",
      " 54  neutral_type_AO     13416 non-null  int64  \n",
      " 55  neutral_type_C1     13416 non-null  int64  \n",
      " 56  neutral_type_NaN    13416 non-null  int64  \n",
      " 57  neutral_type_OC     13416 non-null  int64  \n",
      " 58  neutral_type_OW     13416 non-null  int64  \n",
      " 59  neutral_type_WO     13416 non-null  int64  \n",
      " 60  neutral_type_ZZ     13416 non-null  int64  \n",
      " 61  neutral_spec_0.0    13416 non-null  int64  \n",
      " 62  neutral_spec_22.0   13416 non-null  int64  \n",
      " 63  neutral_spec_32.0   13416 non-null  int64  \n",
      " 64  neutral_spec_35.0   13416 non-null  int64  \n",
      " 65  neutral_spec_38.0   13416 non-null  int64  \n",
      " 66  neutral_spec_58.0   13416 non-null  int64  \n",
      " 67  neutral_spec_60.0   13416 non-null  int64  \n",
      " 68  neutral_spec_95.0   13416 non-null  int64  \n",
      " 69  neutral_spec_100.0  13416 non-null  int64  \n",
      " 70  neutral_spec_999.0  13416 non-null  int64  \n",
      " 71  sl_span             13416 non-null  int64  \n",
      " 72  sl_phase            13416 non-null  int64  \n",
      " 73  sl_type_C1          13416 non-null  int64  \n",
      " 74  sl_type_C2          13416 non-null  int64  \n",
      " 75  sl_type_C4          13416 non-null  int64  \n",
      " 76  sl_type_D2          13416 non-null  int64  \n",
      " 77  sl_type_D3          13416 non-null  int64  \n",
      " 78  sl_type_D4          13416 non-null  int64  \n",
      " 79  sl_type_OW          13416 non-null  int64  \n",
      " 80  sl_type_V2          13416 non-null  int64  \n",
      " 81  sl_type_ZZ          13416 non-null  int64  \n",
      " 82  sl_spec_0.0         13416 non-null  int64  \n",
      " 83  sl_spec_1.6         13416 non-null  int64  \n",
      " 84  sl_spec_2.6         13416 non-null  int64  \n",
      " 85  sl_spec_3.2         13416 non-null  int64  \n",
      " 86  sl_spec_5.5         13416 non-null  int64  \n",
      " 87  sl_spec_10.0        13416 non-null  int64  \n",
      " 88  sl_spec_14.0        13416 non-null  int64  \n",
      " 89  sl_spec_16.0        13416 non-null  int64  \n",
      " 90  sl_spec_22.0        13416 non-null  int64  \n",
      " 91  sl_spec_25.0        13416 non-null  int64  \n",
      " 92  sl_spec_35.0        13416 non-null  int64  \n",
      " 93  sl_spec_38.0        13416 non-null  int64  \n",
      " 94  sl_spec_60.0        13416 non-null  int64  \n",
      " 95  sl_spec_70.0        13416 non-null  int64  \n",
      " 96  sl_spec_100.0       13416 non-null  int64  \n",
      " 97  sl_spec_120.0       13416 non-null  int64  \n",
      " 98  sl_spec_240.0       13416 non-null  int64  \n",
      " 99  sl_length           13416 non-null  int64  \n",
      "dtypes: float64(3), int64(96), object(1)\n",
      "memory usage: 10.2+ MB\n"
     ]
    }
   ],
   "source": [
    "ppdf.info()"
   ]
  },
  {
   "cell_type": "code",
   "execution_count": 4,
   "metadata": {},
   "outputs": [],
   "source": [
    "target_col = cfg.col.target\n",
    "modeling_cols = ppdf.columns[2:].tolist()"
   ]
  },
  {
   "cell_type": "code",
   "execution_count": 5,
   "metadata": {},
   "outputs": [
    {
     "data": {
      "text/plain": [
       "['cont_cap', 'sup_type', 'office_id']"
      ]
     },
     "execution_count": 5,
     "metadata": {},
     "output_type": "execute_result"
    }
   ],
   "source": [
    "modeling_cols[:3]"
   ]
  },
  {
   "cell_type": "code",
   "execution_count": 6,
   "metadata": {},
   "outputs": [
    {
     "data": {
      "text/plain": [
       "(pandas.core.frame.DataFrame,\n",
       " pandas.core.frame.DataFrame,\n",
       " pandas.core.series.Series)"
      ]
     },
     "execution_count": 6,
     "metadata": {},
     "output_type": "execute_result"
    }
   ],
   "source": [
    "check_df = ppdf[['acc_no', 'cons_cost']].copy()\n",
    "X = ppdf[modeling_cols].copy()\n",
    "y = ppdf[target_col].copy()\n",
    "type(check_df), type(X), type(y)"
   ]
  },
  {
   "cell_type": "code",
   "execution_count": 7,
   "metadata": {},
   "outputs": [],
   "source": [
    "train_X, test_X, train_y, test_y = \\\n",
    "    train_test_split(X, y, test_size=0.25)"
   ]
  },
  {
   "cell_type": "code",
   "execution_count": 8,
   "metadata": {},
   "outputs": [
    {
     "data": {
      "text/plain": [
       "((10062, 98), (3354, 98))"
      ]
     },
     "execution_count": 8,
     "metadata": {},
     "output_type": "execute_result"
    }
   ],
   "source": [
    "train_X.shape, test_X.shape"
   ]
  },
  {
   "cell_type": "code",
   "execution_count": 9,
   "metadata": {},
   "outputs": [
    {
     "name": "stdout",
     "output_type": "stream",
     "text": [
      "MODEL: LIN\n",
      "++++ data_size = 3354\n",
      "++++ data_type: y-<class 'numpy.ndarray'>, p-<class 'numpy.ndarray'>\n",
      "++++ data_shape: y-(3354,), p-(3354,)\n",
      "MAPE: 0.198996(19.8996), R2SCORE: 0.663678\n",
      "MODEL: LASSO\n"
     ]
    },
    {
     "name": "stderr",
     "output_type": "stream",
     "text": [
      "/home/freeman/anaconda3/envs/aidds/lib/python3.10/site-packages/sklearn/linear_model/_coordinate_descent.py:678: ConvergenceWarning: Objective did not converge. You might want to increase the number of iterations, check the scale of the features or consider increasing regularisation. Duality gap: 2.026e+16, tolerance: 1.306e+13\n",
      "  model = cd_fast.enet_coordinate_descent(\n"
     ]
    },
    {
     "name": "stdout",
     "output_type": "stream",
     "text": [
      "++++ data_size = 3354\n",
      "++++ data_type: y-<class 'numpy.ndarray'>, p-<class 'numpy.ndarray'>\n",
      "++++ data_shape: y-(3354,), p-(3354,)\n",
      "MAPE: 0.199000(19.9000), R2SCORE: 0.663577\n",
      "MODEL: RIDGE\n",
      "++++ data_size = 3354\n",
      "++++ data_type: y-<class 'numpy.ndarray'>, p-<class 'numpy.ndarray'>\n",
      "++++ data_shape: y-(3354,), p-(3354,)\n",
      "MAPE: 0.198802(19.8802), R2SCORE: 0.665605\n",
      "MODEL: KNR\n",
      "++++ data_size = 3354\n",
      "++++ data_type: y-<class 'numpy.ndarray'>, p-<class 'numpy.ndarray'>\n",
      "++++ data_shape: y-(3354,), p-(3354,)\n",
      "MAPE: 0.256227(25.6227), R2SCORE: 0.446347\n",
      "MODEL: DTR\n",
      "++++ data_size = 3354\n",
      "++++ data_type: y-<class 'numpy.ndarray'>, p-<class 'numpy.ndarray'>\n",
      "++++ data_shape: y-(3354,), p-(3354,)\n",
      "MAPE: 0.280103(28.0103), R2SCORE: 0.295596\n",
      "MODEL: RFR\n",
      "++++ data_size = 3354\n",
      "++++ data_type: y-<class 'numpy.ndarray'>, p-<class 'numpy.ndarray'>\n",
      "++++ data_shape: y-(3354,), p-(3354,)\n",
      "MAPE: 0.214190(21.4190), R2SCORE: 0.650770\n",
      "MODEL: GBR\n",
      "++++ data_size = 3354\n",
      "++++ data_type: y-<class 'numpy.ndarray'>, p-<class 'numpy.ndarray'>\n",
      "++++ data_shape: y-(3354,), p-(3354,)\n",
      "MAPE: 0.192065(19.2065), R2SCORE: 0.679468\n",
      "MODEL: EN\n",
      "++++ data_size = 3354\n",
      "++++ data_type: y-<class 'numpy.ndarray'>, p-<class 'numpy.ndarray'>\n",
      "++++ data_shape: y-(3354,), p-(3354,)\n",
      "MAPE: 0.205341(20.5341), R2SCORE: 0.660279\n",
      "MODEL: XGR\n",
      "++++ data_size = 3354\n",
      "++++ data_type: y-<class 'numpy.ndarray'>, p-<class 'numpy.ndarray'>\n",
      "++++ data_shape: y-(3354,), p-(3354,)\n",
      "MAPE: 0.312992(31.2992), R2SCORE: 0.563130\n"
     ]
    }
   ],
   "source": [
    "try:\n",
    "    for id in cfg.model.ids:\n",
    "        print(f'MODEL: {id.upper()}')\n",
    "        model = eval(f'cfg.model.ml.{id}')\n",
    "        model.fit(train_X, train_y)\n",
    "        pred_y = model.predict(test_X)\n",
    "        _, message = regression_evals(y=test_y.to_numpy(), p=pred_y)\n",
    "        print(message)\n",
    "except AiddsException as ae:\n",
    "    ae.print()\n",
    "except Exception as e:\n",
    "    print(e)"
   ]
  },
  {
   "cell_type": "code",
   "execution_count": 10,
   "metadata": {},
   "outputs": [],
   "source": [
    "yy = test_y.to_numpy()"
   ]
  },
  {
   "cell_type": "code",
   "execution_count": 11,
   "metadata": {},
   "outputs": [
    {
     "name": "stdout",
     "output_type": "stream",
     "text": [
      "++++ data_size = 3354\n",
      "++++ data_type: y-<class 'numpy.ndarray'>, p-<class 'numpy.ndarray'>\n",
      "++++ data_shape: y-(3354,), p-(3354,)\n",
      "MAPE: 0.192298(19.2298), R2SCORE: 0.678604\n"
     ]
    }
   ],
   "source": [
    "# GBR\n",
    "model = cfg.model.ml.gbr\n",
    "model.fit(train_X, train_y)\n",
    "pred_y = model.predict(test_X)\n",
    "_, message = regression_evals(y=yy, p=pred_y)\n",
    "print(message)"
   ]
  },
  {
   "cell_type": "code",
   "execution_count": 12,
   "metadata": {},
   "outputs": [
    {
     "name": "stdout",
     "output_type": "stream",
     "text": [
      "++++ data_size = 13416\n",
      "++++ data_type: y-<class 'numpy.ndarray'>, p-<class 'numpy.ndarray'>\n",
      "++++ data_shape: y-(13416,), p-(13416,)\n",
      "MAPE: 0.185906(18.5906), R2SCORE: 0.740145\n"
     ]
    }
   ],
   "source": [
    "pred_all_y = model.predict(X)\n",
    "y_all = y.to_numpy()\n",
    "_, message = regression_evals(y=y_all, p=pred_all_y)\n",
    "print(message)"
   ]
  },
  {
   "cell_type": "code",
   "execution_count": 13,
   "metadata": {},
   "outputs": [],
   "source": [
    "check_df['pred'] = pred_all_y"
   ]
  },
  {
   "cell_type": "code",
   "execution_count": 18,
   "metadata": {},
   "outputs": [],
   "source": [
    "def calculate_mape(y, p):\n",
    "    return abs((y-p)/y) * 100\n",
    "\n",
    "check_df['mape'] = calculate_mape(check_df.cons_cost, check_df.pred)\n",
    "check_df['best'] = check_df['mape'].apply(lambda x: '*' if x<=30 else '')"
   ]
  },
  {
   "cell_type": "code",
   "execution_count": 19,
   "metadata": {},
   "outputs": [
    {
     "data": {
      "text/plain": [
       "best\n",
       "*    10938\n",
       "      2478\n",
       "Name: count, dtype: int64"
      ]
     },
     "execution_count": 19,
     "metadata": {},
     "output_type": "execute_result"
    }
   ],
   "source": [
    "check_df.best.value_counts()"
   ]
  },
  {
   "cell_type": "code",
   "execution_count": 20,
   "metadata": {},
   "outputs": [],
   "source": [
    "best_df = check_df[check_df.best=='*'].copy()"
   ]
  },
  {
   "cell_type": "code",
   "execution_count": 22,
   "metadata": {},
   "outputs": [
    {
     "name": "stdout",
     "output_type": "stream",
     "text": [
      "++++ data_size = 10938\n",
      "++++ data_type: y-<class 'numpy.ndarray'>, p-<class 'numpy.ndarray'>\n",
      "++++ data_shape: y-(10938,), p-(10938,)\n",
      "MAPE: 0.109029(10.9029), R2SCORE: 0.940731\n"
     ]
    }
   ],
   "source": [
    "_, message = regression_evals(\n",
    "    y=best_df.cons_cost.to_numpy(), \n",
    "    p=best_df.pred.to_numpy()\n",
    ")\n",
    "print(message)"
   ]
  },
  {
   "cell_type": "code",
   "execution_count": 23,
   "metadata": {},
   "outputs": [
    {
     "data": {
      "text/html": [
       "<div>\n",
       "<style scoped>\n",
       "    .dataframe tbody tr th:only-of-type {\n",
       "        vertical-align: middle;\n",
       "    }\n",
       "\n",
       "    .dataframe tbody tr th {\n",
       "        vertical-align: top;\n",
       "    }\n",
       "\n",
       "    .dataframe thead th {\n",
       "        text-align: right;\n",
       "    }\n",
       "</style>\n",
       "<table border=\"1\" class=\"dataframe\">\n",
       "  <thead>\n",
       "    <tr style=\"text-align: right;\">\n",
       "      <th></th>\n",
       "      <th>acc_no</th>\n",
       "      <th>cons_cost</th>\n",
       "      <th>pred</th>\n",
       "      <th>mape</th>\n",
       "      <th>best</th>\n",
       "    </tr>\n",
       "  </thead>\n",
       "  <tbody>\n",
       "    <tr>\n",
       "      <th>0</th>\n",
       "      <td>477420193243</td>\n",
       "      <td>11598900</td>\n",
       "      <td>1.213587e+07</td>\n",
       "      <td>4.629491</td>\n",
       "      <td>*</td>\n",
       "    </tr>\n",
       "    <tr>\n",
       "      <th>1</th>\n",
       "      <td>477420193827</td>\n",
       "      <td>5362339</td>\n",
       "      <td>5.894058e+06</td>\n",
       "      <td>9.915810</td>\n",
       "      <td>*</td>\n",
       "    </tr>\n",
       "    <tr>\n",
       "      <th>3</th>\n",
       "      <td>477420203272</td>\n",
       "      <td>3132017</td>\n",
       "      <td>4.021677e+06</td>\n",
       "      <td>28.405350</td>\n",
       "      <td>*</td>\n",
       "    </tr>\n",
       "    <tr>\n",
       "      <th>4</th>\n",
       "      <td>477420203306</td>\n",
       "      <td>16941740</td>\n",
       "      <td>1.542726e+07</td>\n",
       "      <td>8.939367</td>\n",
       "      <td>*</td>\n",
       "    </tr>\n",
       "    <tr>\n",
       "      <th>5</th>\n",
       "      <td>477420203444</td>\n",
       "      <td>2585476</td>\n",
       "      <td>3.182896e+06</td>\n",
       "      <td>23.106789</td>\n",
       "      <td>*</td>\n",
       "    </tr>\n",
       "    <tr>\n",
       "      <th>...</th>\n",
       "      <td>...</td>\n",
       "      <td>...</td>\n",
       "      <td>...</td>\n",
       "      <td>...</td>\n",
       "      <td>...</td>\n",
       "    </tr>\n",
       "    <tr>\n",
       "      <th>13411</th>\n",
       "      <td>474620234559</td>\n",
       "      <td>2383062</td>\n",
       "      <td>2.436585e+06</td>\n",
       "      <td>2.245989</td>\n",
       "      <td>*</td>\n",
       "    </tr>\n",
       "    <tr>\n",
       "      <th>13412</th>\n",
       "      <td>474620234576</td>\n",
       "      <td>2030411</td>\n",
       "      <td>2.560096e+06</td>\n",
       "      <td>26.087558</td>\n",
       "      <td>*</td>\n",
       "    </tr>\n",
       "    <tr>\n",
       "      <th>13413</th>\n",
       "      <td>474620234577</td>\n",
       "      <td>2425666</td>\n",
       "      <td>2.985935e+06</td>\n",
       "      <td>23.097517</td>\n",
       "      <td>*</td>\n",
       "    </tr>\n",
       "    <tr>\n",
       "      <th>13414</th>\n",
       "      <td>474620234622</td>\n",
       "      <td>2106904</td>\n",
       "      <td>2.555056e+06</td>\n",
       "      <td>21.270627</td>\n",
       "      <td>*</td>\n",
       "    </tr>\n",
       "    <tr>\n",
       "      <th>13415</th>\n",
       "      <td>474620234659</td>\n",
       "      <td>2533097</td>\n",
       "      <td>2.612003e+06</td>\n",
       "      <td>3.114996</td>\n",
       "      <td>*</td>\n",
       "    </tr>\n",
       "  </tbody>\n",
       "</table>\n",
       "<p>10938 rows × 5 columns</p>\n",
       "</div>"
      ],
      "text/plain": [
       "             acc_no  cons_cost          pred       mape best\n",
       "0      477420193243   11598900  1.213587e+07   4.629491    *\n",
       "1      477420193827    5362339  5.894058e+06   9.915810    *\n",
       "3      477420203272    3132017  4.021677e+06  28.405350    *\n",
       "4      477420203306   16941740  1.542726e+07   8.939367    *\n",
       "5      477420203444    2585476  3.182896e+06  23.106789    *\n",
       "...             ...        ...           ...        ...  ...\n",
       "13411  474620234559    2383062  2.436585e+06   2.245989    *\n",
       "13412  474620234576    2030411  2.560096e+06  26.087558    *\n",
       "13413  474620234577    2425666  2.985935e+06  23.097517    *\n",
       "13414  474620234622    2106904  2.555056e+06  21.270627    *\n",
       "13415  474620234659    2533097  2.612003e+06   3.114996    *\n",
       "\n",
       "[10938 rows x 5 columns]"
      ]
     },
     "execution_count": 23,
     "metadata": {},
     "output_type": "execute_result"
    }
   ],
   "source": [
    "best_df"
   ]
  },
  {
   "cell_type": "code",
   "execution_count": null,
   "metadata": {},
   "outputs": [],
   "source": []
  }
 ],
 "metadata": {
  "kernelspec": {
   "display_name": "aidds",
   "language": "python",
   "name": "python3"
  },
  "language_info": {
   "codemirror_mode": {
    "name": "ipython",
    "version": 3
   },
   "file_extension": ".py",
   "mimetype": "text/x-python",
   "name": "python",
   "nbconvert_exporter": "python",
   "pygments_lexer": "ipython3",
   "version": "3.10.14"
  }
 },
 "nbformat": 4,
 "nbformat_minor": 2
}
