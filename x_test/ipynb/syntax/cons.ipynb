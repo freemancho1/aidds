{
 "cells": [
  {
   "cell_type": "code",
   "execution_count": 1,
   "metadata": {},
   "outputs": [
    {
     "ename": "AttributeError",
     "evalue": "'BaggingRegressor' object has no attribute 'coef_'",
     "output_type": "error",
     "traceback": [
      "\u001b[0;31m---------------------------------------------------------------------------\u001b[0m",
      "\u001b[0;31mAttributeError\u001b[0m                            Traceback (most recent call last)",
      "Cell \u001b[0;32mIn[1], line 35\u001b[0m\n\u001b[1;32m     32\u001b[0m model\u001b[38;5;241m.\u001b[39mfit(X, y)\n\u001b[1;32m     34\u001b[0m \u001b[38;5;66;03m# 각 입력 변수에 대한 가중치 출력\u001b[39;00m\n\u001b[0;32m---> 35\u001b[0m weights \u001b[38;5;241m=\u001b[39m \u001b[43mmodel\u001b[49m\u001b[38;5;241;43m.\u001b[39;49m\u001b[43mcoef_\u001b[49m\n\u001b[1;32m     36\u001b[0m \u001b[38;5;28mprint\u001b[39m(\u001b[38;5;124m\"\u001b[39m\u001b[38;5;124m가중치:\u001b[39m\u001b[38;5;124m\"\u001b[39m, weights)\n",
      "\u001b[0;31mAttributeError\u001b[0m: 'BaggingRegressor' object has no attribute 'coef_'"
     ]
    }
   ],
   "source": [
    "import pandas as pd\n",
    "from sklearn.linear_model import Lasso, Ridge, LinearRegression\n",
    "from sklearn.linear_model import ARDRegression, BayesianRidge\n",
    "from sklearn.linear_model import GammaRegressor, PoissonRegressor, TweedieRegressor\n",
    "from sklearn.linear_model import ElasticNetCV, Lars, LassoLars\n",
    "from sklearn.neighbors import KNeighborsRegressor\n",
    "from sklearn.tree import DecisionTreeRegressor\n",
    "from sklearn.ensemble import RandomForestRegressor, BaggingRegressor\n",
    "from sklearn.ensemble import GradientBoostingRegressor \n",
    "from sklearn.linear_model import ElasticNet, LogisticRegression\n",
    "from xgboost import XGBRegressor\n",
    "\n",
    "# 주어진 데이터를 DataFrame으로 변환\n",
    "data = {\n",
    "    '전주수': [5, 3, 3, 2, 7, 6, 4, 3, 4, 5, 7, 6],\n",
    "    '전선1': [540, 288, 279, 141, 705, 678, 348, 327, 291, 486, 678, 570],\n",
    "    '전선2': [180, 96, 93, 47, 234, 179, 116, 78, 97, 162, 226, 190],\n",
    "    '애자1': [21, 15, 15, 12, 27, 27, 18, 18, 18, 21, 27, 24],\n",
    "    '애자2': [7, 5, 5, 4, 9, 9, 6, 6, 6, 7, 9, 8],\n",
    "    '접지': [2, 1, 1, 1, 3, 2, 2, 1, 2, 2, 3, 2],\n",
    "    '공사비': [9486250, 5939099, 5942850, 4122591, 12819264, 11265195, 7610627, 6070040, 7470560, 9338272, 12731955, 11008515]\n",
    "}\n",
    "\n",
    "df = pd.DataFrame(data)\n",
    "\n",
    "# 입력 변수(X)와 출력 변수(y)를 나누기\n",
    "X = df[['전주수', '전선1', '전선2', '애자1', '애자2', '접지']]\n",
    "y = df['공사비']\n",
    "\n",
    "# 선형 회귀 모델 초기화 및 학습\n",
    "model = BaggingRegressor()\n",
    "model.fit(X, y)\n",
    "\n",
    "# 각 입력 변수에 대한 가중치 출력\n",
    "weights = model.coef_\n",
    "print(\"가중치:\", weights)"
   ]
  },
  {
   "cell_type": "code",
   "execution_count": 135,
   "metadata": {},
   "outputs": [
    {
     "ename": "AttributeError",
     "evalue": "'BaggingRegressor' object has no attribute 'intercept_'",
     "output_type": "error",
     "traceback": [
      "\u001b[0;31m---------------------------------------------------------------------------\u001b[0m",
      "\u001b[0;31mAttributeError\u001b[0m                            Traceback (most recent call last)",
      "Cell \u001b[0;32mIn[135], line 1\u001b[0m\n\u001b[0;32m----> 1\u001b[0m \u001b[43mmodel\u001b[49m\u001b[38;5;241;43m.\u001b[39;49m\u001b[43mintercept_\u001b[49m\n",
      "\u001b[0;31mAttributeError\u001b[0m: 'BaggingRegressor' object has no attribute 'intercept_'"
     ]
    }
   ],
   "source": [
    "model.intercept_"
   ]
  },
  {
   "cell_type": "code",
   "execution_count": 136,
   "metadata": {},
   "outputs": [],
   "source": [
    "x = [\n",
    "    [3, 258, 86, 15, 5, 1],\n",
    "    [3, 279, 93, 15, 5, 1],\n",
    "]"
   ]
  },
  {
   "cell_type": "code",
   "execution_count": 137,
   "metadata": {},
   "outputs": [
    {
     "name": "stderr",
     "output_type": "stream",
     "text": [
      "/home/freeman/anaconda3/envs/aidds/lib/python3.10/site-packages/sklearn/base.py:493: UserWarning: X does not have valid feature names, but BaggingRegressor was fitted with feature names\n",
      "  warnings.warn(\n"
     ]
    }
   ],
   "source": [
    "p = model.predict(x)"
   ]
  },
  {
   "cell_type": "code",
   "execution_count": 138,
   "metadata": {},
   "outputs": [
    {
     "data": {
      "text/plain": [
       "array([5603486., 5603486.])"
      ]
     },
     "execution_count": 138,
     "metadata": {},
     "output_type": "execute_result"
    }
   ],
   "source": [
    "p"
   ]
  },
  {
   "cell_type": "code",
   "execution_count": null,
   "metadata": {},
   "outputs": [],
   "source": []
  }
 ],
 "metadata": {
  "kernelspec": {
   "display_name": "aidds",
   "language": "python",
   "name": "python3"
  },
  "language_info": {
   "codemirror_mode": {
    "name": "ipython",
    "version": 3
   },
   "file_extension": ".py",
   "mimetype": "text/x-python",
   "name": "python",
   "nbconvert_exporter": "python",
   "pygments_lexer": "ipython3",
   "version": "3.10.14"
  }
 },
 "nbformat": 4,
 "nbformat_minor": 2
}
