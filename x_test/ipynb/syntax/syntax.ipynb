{
 "cells": [
  {
   "cell_type": "code",
   "execution_count": 1,
   "metadata": {},
   "outputs": [
    {
     "name": "stdout",
     "output_type": "stream",
     "text": [
      "match is 10\n"
     ]
    }
   ],
   "source": [
    "match = 10\n",
    "label = 'OK'\n",
    "\n",
    "match match:\n",
    "    case 10:\n",
    "        print(f'match is 10')\n",
    "    case _:\n",
    "        print('match is not 10')"
   ]
  },
  {
   "cell_type": "code",
   "execution_count": 6,
   "metadata": {},
   "outputs": [
    {
     "ename": "SyntaxError",
     "evalue": "name capture 'case' makes remaining patterns unreachable (622860216.py, line 5)",
     "output_type": "error",
     "traceback": [
      "\u001b[0;36m  Cell \u001b[0;32mIn[6], line 5\u001b[0;36m\u001b[0m\n\u001b[0;31m    case case:\u001b[0m\n\u001b[0m         ^\u001b[0m\n\u001b[0;31mSyntaxError\u001b[0m\u001b[0;31m:\u001b[0m name capture 'case' makes remaining patterns unreachable\n"
     ]
    }
   ],
   "source": [
    "match = 10\n",
    "case = 10\n",
    "\n",
    "match match:\n",
    "    case case:\n",
    "        print('match is 10')\n",
    "    case _:\n",
    "        print('match is not 10')"
   ]
  },
  {
   "cell_type": "code",
   "execution_count": 8,
   "metadata": {},
   "outputs": [
    {
     "ename": "SyntaxError",
     "evalue": "name capture 'case' makes remaining patterns unreachable (3859083212.py, line 5)",
     "output_type": "error",
     "traceback": [
      "\u001b[0;36m  Cell \u001b[0;32mIn[8], line 5\u001b[0;36m\u001b[0m\n\u001b[0;31m    case case:\u001b[0m\n\u001b[0m         ^\u001b[0m\n\u001b[0;31mSyntaxError\u001b[0m\u001b[0;31m:\u001b[0m name capture 'case' makes remaining patterns unreachable\n"
     ]
    }
   ],
   "source": [
    "match = 10\n",
    "case = 10\n",
    "\n",
    "match match:\n",
    "    case case:\n",
    "        print('match is 10')\n",
    "    case 20:\n",
    "        print('match is 20')\n"
   ]
  },
  {
   "cell_type": "code",
   "execution_count": null,
   "metadata": {},
   "outputs": [],
   "source": []
  }
 ],
 "metadata": {
  "kernelspec": {
   "display_name": "aidds",
   "language": "python",
   "name": "python3"
  },
  "language_info": {
   "codemirror_mode": {
    "name": "ipython",
    "version": 3
   },
   "file_extension": ".py",
   "mimetype": "text/x-python",
   "name": "python",
   "nbconvert_exporter": "python",
   "pygments_lexer": "ipython3",
   "version": "3.10.14"
  }
 },
 "nbformat": 4,
 "nbformat_minor": 2
}
