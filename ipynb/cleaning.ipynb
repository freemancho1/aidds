{
 "cells": [
  {
   "cell_type": "code",
   "execution_count": 1,
   "metadata": {},
   "outputs": [],
   "source": [
    "from aidds_buy.sys import config as cfg\n",
    "from aidds_buy.sys.utils import modeling_logs as logs\n",
    "from aidds_buy.sys.utils import app_exception\n",
    "from aidds_buy.sys.utils import get_provide_data\n",
    "from aidds_buy.sys.utils import save_data"
   ]
  },
  {
   "cell_type": "code",
   "execution_count": 2,
   "metadata": {},
   "outputs": [
    {
     "name": "stdout",
     "output_type": "stream",
     "text": [
      "[084058aaf011][2024-06-25 17:12:14.456133] Fetching provided data start.\n",
      "[084058aaf011][2024-06-25 17:12:14.581102]   Get CONS dataset: size(88880, 8), processing time 0:00:00.123949\n",
      "[084058aaf011][2024-06-25 17:12:14.640399]   Get POLE dataset: size(114405, 4), processing time 0:00:00.059206\n",
      "[084058aaf011][2024-06-25 17:12:14.765267]   Get LINE dataset: size(150878, 8), processing time 0:00:00.124779\n",
      "[084058aaf011][2024-06-25 17:12:14.821325]   Get SL dataset: size(97106, 5), processing time 0:00:00.055908\n",
      "[084058aaf011][2024-06-25 17:12:14.821375] Fetching provided data end., Total processing time: 0:00:00.365371\n"
     ]
    }
   ],
   "source": [
    "pd_dict = get_provide_data()"
   ]
  },
  {
   "cell_type": "code",
   "execution_count": 3,
   "metadata": {},
   "outputs": [],
   "source": [
    "cons_df = pd_dict[\"cons\"]"
   ]
  },
  {
   "cell_type": "code",
   "execution_count": 10,
   "metadata": {},
   "outputs": [
    {
     "name": "stdout",
     "output_type": "stream",
     "text": [
      "Duplicate Counts: 5354, Duplicate Rows Count Sum: 14525, Total: 88880, Real Rows: 79709\n"
     ]
    }
   ],
   "source": [
    "# 중복값 확인\n",
    "duplicates = cons_df.acc_no.value_counts()\n",
    "# 중복값이 1 이상인 컬럼 갯 수 확인\n",
    "duplicate_counts = len(duplicates[duplicates > 1])\n",
    "# 중복값이 1 이상인 레코드 확인\n",
    "duplicate_rows = sum(duplicates[duplicates > 1])\n",
    "print(\n",
    "    f\"Duplicate Counts: {duplicate_counts}, \"\n",
    "    f\"Duplicate Rows Count Sum: {duplicate_rows}, \"\n",
    "    f\"Total: {cons_df.shape[0]}, \"\n",
    "    # 접수번호가 유일한 값으로 구성된 실제 작업 레코드 갯 수\n",
    "    f\"Real Rows: {cons_df.shape[0]+duplicate_counts-duplicate_rows}\"\n",
    ")"
   ]
  },
  {
   "cell_type": "code",
   "execution_count": 11,
   "metadata": {},
   "outputs": [],
   "source": [
    "# 중복된 접수번호가 있는 레코드의 최초 레코드만 남기고 제거\n",
    "duplicate_drop_cons_df = \\\n",
    "    cons_df.drop_duplicates(subset=[\"acc_no\"], keep=\"first\")"
   ]
  },
  {
   "cell_type": "code",
   "execution_count": 12,
   "metadata": {},
   "outputs": [
    {
     "data": {
      "text/plain": [
       "(79709, 8)"
      ]
     },
     "execution_count": 12,
     "metadata": {},
     "output_type": "execute_result"
    }
   ],
   "source": [
    "duplicate_drop_cons_df.shape"
   ]
  },
  {
   "cell_type": "code",
   "execution_count": 7,
   "metadata": {},
   "outputs": [
    {
     "data": {
      "text/plain": [
       "cntr_type\n",
       "430    33678\n",
       "100    22817\n",
       "211    15355\n",
       "600     5402\n",
       "410     3694\n",
       "311     2631\n",
       "610     2222\n",
       "218     1917\n",
       "108      876\n",
       "905      278\n",
       "213        7\n",
       "228        2\n",
       "915        1\n",
       "Name: count, dtype: int64"
      ]
     },
     "execution_count": 7,
     "metadata": {},
     "output_type": "execute_result"
    }
   ],
   "source": [
    "cons_df.cntr_type.value_counts()"
   ]
  },
  {
   "cell_type": "code",
   "execution_count": 9,
   "metadata": {},
   "outputs": [
    {
     "data": {
      "text/plain": [
       "acpt_knd_cd\n",
       "L    19846\n",
       "P    18319\n",
       "K        7\n",
       "Name: count, dtype: int64"
      ]
     },
     "execution_count": 9,
     "metadata": {},
     "output_type": "execute_result"
    }
   ],
   "source": [
    "cons_df[cons_df.cntr_type.isin([100, 211])].acpt_knd_cd.value_counts()"
   ]
  },
  {
   "cell_type": "code",
   "execution_count": null,
   "metadata": {},
   "outputs": [],
   "source": []
  }
 ],
 "metadata": {
  "kernelspec": {
   "display_name": "aidds",
   "language": "python",
   "name": "python3"
  },
  "language_info": {
   "codemirror_mode": {
    "name": "ipython",
    "version": 3
   },
   "file_extension": ".py",
   "mimetype": "text/x-python",
   "name": "python",
   "nbconvert_exporter": "python",
   "pygments_lexer": "ipython3",
   "version": "3.10.14"
  }
 },
 "nbformat": 4,
 "nbformat_minor": 2
}
