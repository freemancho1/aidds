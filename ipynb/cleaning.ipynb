{
 "cells": [
  {
   "cell_type": "code",
   "execution_count": 1,
   "metadata": {},
   "outputs": [],
   "source": [
    "from aidds_buy.sys import config as cfg\n",
    "from aidds_buy.sys.utils import modeling_logs as logs\n",
    "from aidds_buy.sys.utils import app_exception\n",
    "from aidds_buy.sys.utils import get_provide_data\n",
    "from aidds_buy.sys.utils import save_data"
   ]
  },
  {
   "cell_type": "code",
   "execution_count": 2,
   "metadata": {},
   "outputs": [
    {
     "name": "stdout",
     "output_type": "stream",
     "text": [
      "[87f3ac7f8bb4][2024-05-23 14:14:35.226538] Fetching provided data start.\n",
      "[87f3ac7f8bb4][2024-05-23 14:14:35.358521]   Get CONS dataset: size(88880, 8), processing time 0:00:00.131277\n",
      "[87f3ac7f8bb4][2024-05-23 14:14:35.423059]   Get POLE dataset: size(114405, 4), processing time 0:00:00.064443\n",
      "[87f3ac7f8bb4][2024-05-23 14:14:35.549688]   Get LINE dataset: size(150878, 8), processing time 0:00:00.126485\n",
      "[87f3ac7f8bb4][2024-05-23 14:14:35.608995]   Get SL dataset: size(97106, 5), processing time 0:00:00.059156\n",
      "[87f3ac7f8bb4][2024-05-23 14:14:35.609044] Fetching provided data end., Total processing time: 0:00:00.382642\n"
     ]
    }
   ],
   "source": [
    "pd_dict = get_provide_data()"
   ]
  },
  {
   "cell_type": "code",
   "execution_count": 3,
   "metadata": {},
   "outputs": [],
   "source": [
    "cons_df = pd_dict[\"cons\"]"
   ]
  },
  {
   "cell_type": "code",
   "execution_count": 4,
   "metadata": {},
   "outputs": [
    {
     "data": {
      "text/plain": [
       "acc_no         79709\n",
       "cons_cost      77481\n",
       "acc_date        2828\n",
       "office_cd         11\n",
       "cntr_type         13\n",
       "cntr_pwr          49\n",
       "acpt_knd_cd        4\n",
       "sply_tpcd          4\n",
       "dtype: int64"
      ]
     },
     "execution_count": 4,
     "metadata": {},
     "output_type": "execute_result"
    }
   ],
   "source": [
    "cons_df.nunique()"
   ]
  },
  {
   "cell_type": "code",
   "execution_count": 7,
   "metadata": {},
   "outputs": [
    {
     "data": {
      "text/plain": [
       "acpt_knd_cd\n",
       "P    58716\n",
       "L    24788\n",
       "I     2792\n",
       "K     2584\n",
       "Name: count, dtype: int64"
      ]
     },
     "execution_count": 7,
     "metadata": {},
     "output_type": "execute_result"
    }
   ],
   "source": [
    "cons_df.acpt_knd_cd.value_counts()"
   ]
  },
  {
   "cell_type": "code",
   "execution_count": null,
   "metadata": {},
   "outputs": [],
   "source": []
  }
 ],
 "metadata": {
  "kernelspec": {
   "display_name": "aidds",
   "language": "python",
   "name": "python3"
  },
  "language_info": {
   "codemirror_mode": {
    "name": "ipython",
    "version": 3
   },
   "file_extension": ".py",
   "mimetype": "text/x-python",
   "name": "python",
   "nbconvert_exporter": "python",
   "pygments_lexer": "ipython3",
   "version": "3.10.14"
  }
 },
 "nbformat": 4,
 "nbformat_minor": 2
}
