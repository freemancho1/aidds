{
 "cells": [
  {
   "cell_type": "code",
   "execution_count": 1,
   "metadata": {},
   "outputs": [],
   "source": [
    "from aidds_buy.sys import config as cfg\n",
    "from aidds_buy.sys.utils import modeling_logs as logs\n",
    "from aidds_buy.sys.utils import app_exception\n",
    "from aidds_buy.sys.utils import get_provide_data\n",
    "from aidds_buy.sys.utils import save_data"
   ]
  },
  {
   "cell_type": "code",
   "execution_count": 2,
   "metadata": {},
   "outputs": [
    {
     "name": "stdout",
     "output_type": "stream",
     "text": [
      "[6e03b4ab640d][2024-06-21 15:09:10.919215] Fetching provided data start.\n",
      "[6e03b4ab640d][2024-06-21 15:09:11.026810]   Get CONS dataset: size(88880, 8), processing time 0:00:00.107450\n",
      "[6e03b4ab640d][2024-06-21 15:09:11.086734]   Get POLE dataset: size(114405, 4), processing time 0:00:00.059821\n",
      "[6e03b4ab640d][2024-06-21 15:09:11.212522]   Get LINE dataset: size(150878, 8), processing time 0:00:00.125688\n",
      "[6e03b4ab640d][2024-06-21 15:09:11.267974]   Get SL dataset: size(97106, 5), processing time 0:00:00.055298\n",
      "[6e03b4ab640d][2024-06-21 15:09:11.268028] Fetching provided data end., Total processing time: 0:00:00.348860\n"
     ]
    }
   ],
   "source": [
    "pd_dict = get_provide_data()"
   ]
  },
  {
   "cell_type": "code",
   "execution_count": 3,
   "metadata": {},
   "outputs": [],
   "source": [
    "cons_df = pd_dict[\"cons\"]"
   ]
  },
  {
   "cell_type": "code",
   "execution_count": 4,
   "metadata": {},
   "outputs": [
    {
     "data": {
      "text/plain": [
       "acc_no         79709\n",
       "cons_cost      77481\n",
       "acc_date        2828\n",
       "office_cd         11\n",
       "cntr_type         13\n",
       "cntr_pwr          49\n",
       "acpt_knd_cd        4\n",
       "sply_tpcd          4\n",
       "dtype: int64"
      ]
     },
     "execution_count": 4,
     "metadata": {},
     "output_type": "execute_result"
    }
   ],
   "source": [
    "cons_df.nunique()"
   ]
  },
  {
   "cell_type": "code",
   "execution_count": 5,
   "metadata": {},
   "outputs": [
    {
     "data": {
      "text/plain": [
       "acpt_knd_cd\n",
       "P    58716\n",
       "L    24788\n",
       "I     2792\n",
       "K     2584\n",
       "Name: count, dtype: int64"
      ]
     },
     "execution_count": 5,
     "metadata": {},
     "output_type": "execute_result"
    }
   ],
   "source": [
    "cons_df.acpt_knd_cd.value_counts()"
   ]
  },
  {
   "cell_type": "code",
   "execution_count": 6,
   "metadata": {},
   "outputs": [
    {
     "data": {
      "text/plain": [
       "office_cd\n",
       "4520    12026\n",
       "4530    10278\n",
       "7815    10131\n",
       "4531     9646\n",
       "4540     8077\n",
       "4517     7868\n",
       "4670     7005\n",
       "4534     7004\n",
       "4515     6706\n",
       "4637     5542\n",
       "4592     4597\n",
       "Name: count, dtype: int64"
      ]
     },
     "execution_count": 6,
     "metadata": {},
     "output_type": "execute_result"
    }
   ],
   "source": [
    "cons_df.office_cd.value_counts()"
   ]
  },
  {
   "cell_type": "code",
   "execution_count": 7,
   "metadata": {},
   "outputs": [
    {
     "data": {
      "text/plain": [
       "cntr_type\n",
       "430    33678\n",
       "100    22817\n",
       "211    15355\n",
       "600     5402\n",
       "410     3694\n",
       "311     2631\n",
       "610     2222\n",
       "218     1917\n",
       "108      876\n",
       "905      278\n",
       "213        7\n",
       "228        2\n",
       "915        1\n",
       "Name: count, dtype: int64"
      ]
     },
     "execution_count": 7,
     "metadata": {},
     "output_type": "execute_result"
    }
   ],
   "source": [
    "cons_df.cntr_type.value_counts()"
   ]
  },
  {
   "cell_type": "code",
   "execution_count": 9,
   "metadata": {},
   "outputs": [
    {
     "data": {
      "text/plain": [
       "acpt_knd_cd\n",
       "L    19846\n",
       "P    18319\n",
       "K        7\n",
       "Name: count, dtype: int64"
      ]
     },
     "execution_count": 9,
     "metadata": {},
     "output_type": "execute_result"
    }
   ],
   "source": [
    "cons_df[cons_df.cntr_type.isin([100, 211])].acpt_knd_cd.value_counts()"
   ]
  },
  {
   "cell_type": "code",
   "execution_count": null,
   "metadata": {},
   "outputs": [],
   "source": []
  }
 ],
 "metadata": {
  "kernelspec": {
   "display_name": "aidds",
   "language": "python",
   "name": "python3"
  },
  "language_info": {
   "codemirror_mode": {
    "name": "ipython",
    "version": 3
   },
   "file_extension": ".py",
   "mimetype": "text/x-python",
   "name": "python",
   "nbconvert_exporter": "python",
   "pygments_lexer": "ipython3",
   "version": "3.10.14"
  }
 },
 "nbformat": 4,
 "nbformat_minor": 2
}
