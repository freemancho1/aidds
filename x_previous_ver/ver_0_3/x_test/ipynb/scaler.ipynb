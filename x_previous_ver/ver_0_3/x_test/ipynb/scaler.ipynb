{
 "cells": [
  {
   "cell_type": "code",
   "execution_count": 1,
   "metadata": {},
   "outputs": [],
   "source": [
    "from aidds_buy.sys.utils.exception import AiddsException\n",
    "from aidds_buy.modeling.scaler import Scaling "
   ]
  },
  {
   "cell_type": "code",
   "execution_count": 2,
   "metadata": {},
   "outputs": [
    {
     "name": "stdout",
     "output_type": "stream",
     "text": [
      "[7de9d10c2e1b][2024-04-16 20:25:11.354795] Preprocessing data scaling start.\n",
      "[7de9d10c2e1b][2024-04-16 20:25:11.443719]   Total size of attribute data for learning: (10968, 98)\n",
      "[7de9d10c2e1b][2024-04-16 20:25:11.448213]   Data size of training/testing data by pole count: pc_type[all] - total(10968, 98), train(8226, 98), test(2742, 98)\n",
      "[7de9d10c2e1b][2024-04-16 20:25:11.467623]   Data size of training/testing data by pole count: pc_type[e1] - total(6611, 98), train(4958, 98), test(1653, 98)\n",
      "[7de9d10c2e1b][2024-04-16 20:25:11.482525]   Data size of training/testing data by pole count: pc_type[n1] - total(4357, 98), train(3267, 98), test(1090, 98)\n",
      "[7de9d10c2e1b][2024-04-16 20:25:14.071234] Preprocessing data scaling end., Total processing time: 0:00:02.716503\n"
     ]
    }
   ],
   "source": [
    "try:\n",
    "    sc = Scaling(is_best=True)\n",
    "except AiddsException as ae:\n",
    "    ae.print()"
   ]
  },
  {
   "cell_type": "code",
   "execution_count": 3,
   "metadata": {},
   "outputs": [
    {
     "data": {
      "text/plain": [
       "dict_keys(['train_x', 'test_x', 'train_y', 'test_y'])"
      ]
     },
     "execution_count": 3,
     "metadata": {},
     "output_type": "execute_result"
    }
   ],
   "source": [
    "sc.sdata.keys()"
   ]
  },
  {
   "cell_type": "code",
   "execution_count": 4,
   "metadata": {},
   "outputs": [],
   "source": [
    "train_x = sc.sdata['train_x']"
   ]
  },
  {
   "cell_type": "code",
   "execution_count": 5,
   "metadata": {},
   "outputs": [
    {
     "data": {
      "text/plain": [
       "dict"
      ]
     },
     "execution_count": 5,
     "metadata": {},
     "output_type": "execute_result"
    }
   ],
   "source": [
    "type(train_x)"
   ]
  },
  {
   "cell_type": "code",
   "execution_count": 6,
   "metadata": {},
   "outputs": [
    {
     "data": {
      "text/plain": [
       "dict_keys(['all', 'e1', 'n1'])"
      ]
     },
     "execution_count": 6,
     "metadata": {},
     "output_type": "execute_result"
    }
   ],
   "source": [
    "train_x.keys()"
   ]
  },
  {
   "cell_type": "code",
   "execution_count": 7,
   "metadata": {},
   "outputs": [],
   "source": [
    "train_x_all = train_x['all']"
   ]
  },
  {
   "cell_type": "code",
   "execution_count": null,
   "metadata": {},
   "outputs": [],
   "source": []
  }
 ],
 "metadata": {
  "kernelspec": {
   "display_name": "aidds",
   "language": "python",
   "name": "python3"
  },
  "language_info": {
   "codemirror_mode": {
    "name": "ipython",
    "version": 3
   },
   "file_extension": ".py",
   "mimetype": "text/x-python",
   "name": "python",
   "nbconvert_exporter": "python",
   "pygments_lexer": "ipython3",
   "version": "3.10.14"
  }
 },
 "nbformat": 4,
 "nbformat_minor": 2
}
