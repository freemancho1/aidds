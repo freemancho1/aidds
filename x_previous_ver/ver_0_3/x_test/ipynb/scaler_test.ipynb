{
 "cells": [
  {
   "cell_type": "code",
   "execution_count": 1,
   "metadata": {},
   "outputs": [],
   "source": [
    "from aidds_buy.sys.utils.exception import AiddsException\n",
    "from aidds_buy.modeling.scaler import Scaling \n",
    "from aidds_buy.modeling.learn import Learning\n",
    "import aidds_buy.sys.config as cfg\n",
    "from aidds_buy.sys.utils.evaluation import regression_evals\n",
    "import pandas as pd"
   ]
  },
  {
   "cell_type": "code",
   "execution_count": 2,
   "metadata": {},
   "outputs": [
    {
     "name": "stdout",
     "output_type": "stream",
     "text": [
      "[21a9b7f20efb][2024-04-18 14:56:25.697203] Preprocessing data scaling start.\n",
      "[21a9b7f20efb][2024-04-18 14:56:25.832311]   Total size of attribute data for learning: (10963, 98)\n",
      "[21a9b7f20efb][2024-04-18 14:56:25.838038]   Data size of training/testing data by pole count: pc_type[all] - total(10963, 98), train(8222, 98), test(2741, 98)\n",
      "[21a9b7f20efb][2024-04-18 14:56:25.865754]   Data size of training/testing data by pole count: pc_type[e1] - total(6635, 98), train(4976, 98), test(1659, 98)\n",
      "[21a9b7f20efb][2024-04-18 14:56:25.888602]   Data size of training/testing data by pole count: pc_type[n1] - total(4328, 98), train(3246, 98), test(1082, 98)\n",
      "[21a9b7f20efb][2024-04-18 14:56:29.720124] Preprocessing data scaling end., Total processing time: 0:00:04.023002\n",
      "[24339d5ae199][2024-04-18 14:56:29.720540] Learning start.\n"
     ]
    },
    {
     "name": "stderr",
     "output_type": "stream",
     "text": [
      "/home/freeman/anaconda3/envs/aidds/lib/python3.10/site-packages/sklearn/linear_model/_coordinate_descent.py:678: ConvergenceWarning: Objective did not converge. You might want to increase the number of iterations, check the scale of the features or consider increasing regularisation. Duality gap: 4.421e+15, tolerance: 7.845e+12\n",
      "  model = cd_fast.enet_coordinate_descent(\n"
     ]
    },
    {
     "name": "stdout",
     "output_type": "stream",
     "text": [
      "[24339d5ae199][2024-04-18 14:56:36.939700]   Model training results: [all:gbr] - MAPE: 0.103470, R2SCORE: 0.920783\n"
     ]
    },
    {
     "name": "stderr",
     "output_type": "stream",
     "text": [
      "/home/freeman/anaconda3/envs/aidds/lib/python3.10/site-packages/sklearn/linear_model/_coordinate_descent.py:678: ConvergenceWarning: Objective did not converge. You might want to increase the number of iterations, check the scale of the features or consider increasing regularisation. Duality gap: 5.050e+14, tolerance: 5.140e+11\n",
      "  model = cd_fast.enet_coordinate_descent(\n"
     ]
    },
    {
     "name": "stdout",
     "output_type": "stream",
     "text": [
      "[24339d5ae199][2024-04-18 14:56:42.414438]   Model training results: [all:gbr] - MAPE: 0.230027, R2SCORE: 0.153512\n",
      "[24339d5ae199][2024-04-18 14:56:42.421386]   Model training results: [e1:gbr] - MAPE: 0.230027, R2SCORE: 0.153512\n"
     ]
    },
    {
     "name": "stderr",
     "output_type": "stream",
     "text": [
      "/home/freeman/anaconda3/envs/aidds/lib/python3.10/site-packages/sklearn/linear_model/_coordinate_descent.py:678: ConvergenceWarning: Objective did not converge. You might want to increase the number of iterations, check the scale of the features or consider increasing regularisation. Duality gap: 3.738e+15, tolerance: 4.985e+12\n",
      "  model = cd_fast.enet_coordinate_descent(\n"
     ]
    },
    {
     "name": "stdout",
     "output_type": "stream",
     "text": [
      "[24339d5ae199][2024-04-18 14:56:46.303759]   Model training results: [all:gbr] - MAPE: 0.510307, R2SCORE: 0.625602\n",
      "[24339d5ae199][2024-04-18 14:56:46.312040]   Model training results: [e1:gbr] - MAPE: 0.510307, R2SCORE: 0.625602\n",
      "[24339d5ae199][2024-04-18 14:56:46.319441]   Model training results: [n1:gbr] - MAPE: 0.510307, R2SCORE: 0.625602\n",
      "[24339d5ae199][2024-04-18 14:56:47.082414] Learning end., Total processing time: 0:00:17.361890\n"
     ]
    }
   ],
   "source": [
    "try:\n",
    "    sc = Scaling(is_best=True)\n",
    "    ln = Learning(scaling_data=sc.sdata)\n",
    "except AiddsException as ae:\n",
    "    ae.print()"
   ]
  },
  {
   "cell_type": "code",
   "execution_count": 3,
   "metadata": {},
   "outputs": [
    {
     "data": {
      "text/plain": [
       "{'all': {'score': 0.9207831301685202,\n",
       "  'mape': 0.10347008379764669,\n",
       "  'model': GradientBoostingRegressor(),\n",
       "  'model_key': 'gbr'},\n",
       " 'e1': {'score': 0.8127587780677437,\n",
       "  'mape': 0.10516110392665275,\n",
       "  'model': Lasso(max_iter=3000),\n",
       "  'model_key': 'lasso'},\n",
       " 'n1': {'score': 0.8744167992586852,\n",
       "  'mape': 0.10847274263136969,\n",
       "  'model': GradientBoostingRegressor(),\n",
       "  'model_key': 'gbr'}}"
      ]
     },
     "execution_count": 3,
     "metadata": {},
     "output_type": "execute_result"
    }
   ],
   "source": [
    "ln._best"
   ]
  },
  {
   "cell_type": "code",
   "execution_count": null,
   "metadata": {},
   "outputs": [],
   "source": []
  }
 ],
 "metadata": {
  "kernelspec": {
   "display_name": "aidds",
   "language": "python",
   "name": "python3"
  },
  "language_info": {
   "codemirror_mode": {
    "name": "ipython",
    "version": 3
   },
   "file_extension": ".py",
   "mimetype": "text/x-python",
   "name": "python",
   "nbconvert_exporter": "python",
   "pygments_lexer": "ipython3",
   "version": "3.10.14"
  }
 },
 "nbformat": 4,
 "nbformat_minor": 2
}
