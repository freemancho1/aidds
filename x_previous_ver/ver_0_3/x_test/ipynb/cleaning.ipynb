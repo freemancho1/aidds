{
 "cells": [
  {
   "cell_type": "code",
   "execution_count": 2,
   "metadata": {},
   "outputs": [],
   "source": [
    "from aidds_buy.sys.utils.data_io import read_data, save_data\n",
    "from aidds_buy.cleaning.cleaning import Cleaning"
   ]
  },
  {
   "cell_type": "code",
   "execution_count": null,
   "metadata": {},
   "outputs": [],
   "source": [
    "df = read_data('data.provide.pole')\n",
    "df = df.rename(columns={'X좌표-Y좌표': 'X좌표_Y좌표'})\n",
    "save_data(df, 'data.provide.pole')\n",
    "df = read_data('data.provide.sl')\n",
    "df = df.rename(columns={'지지물간거리': '인입선지지물간거리'})\n",
    "save_data(df, 'data.provide.sl')"
   ]
  },
  {
   "cell_type": "code",
   "execution_count": 7,
   "metadata": {},
   "outputs": [
    {
     "name": "stdout",
     "output_type": "stream",
     "text": [
      "[2aafeca6998a][2024-04-11 20:30:11.481471] Cleaning provided data start.\n",
      "[aa1ebde3f86b][2024-04-11 20:30:11.481773]   Fetching provided data start.\n",
      "[aa1ebde3f86b][2024-04-11 20:30:30.528748]     Get CONS dataset: Size(19052, 143), Processing Time 0:00:19.046898\n",
      "[aa1ebde3f86b][2024-04-11 20:30:56.052105]     Get POLE dataset: Size(38533, 63), Processing Time 0:00:25.523256\n",
      "[aa1ebde3f86b][2024-04-11 20:31:18.170951]     Get LINE dataset: Size(40019, 77), Processing Time 0:00:22.118752\n",
      "[aa1ebde3f86b][2024-04-11 20:31:31.625607]     Get SL dataset: Size(22632, 57), Processing Time 0:00:13.454560\n",
      "[aa1ebde3f86b][2024-04-11 20:31:31.625670]   Fetching provided data end., Total processing time: 0:01:20.143898\n",
      "[2aafeca6998a][2024-04-11 20:31:31.716962]   CONS dataset cleaning: (15474, 5)\n",
      "[2aafeca6998a][2024-04-11 20:31:31.747492]   POLE dataset cleaning: (28121, 4)\n",
      "[2aafeca6998a][2024-04-11 20:31:31.807889]   LINE dataset cleaning: (30617, 8)\n",
      "[2aafeca6998a][2024-04-11 20:31:31.830610]   SL dataset cleaning: (17222, 5)\n",
      "[2aafeca6998a][2024-04-11 20:31:31.832632] Cleaning provided data end., Total processing time: 0:01:20.351170\n"
     ]
    },
    {
     "data": {
      "text/plain": [
       "<aidds.cleaning.cleaning.Cleaning at 0x7d74522dcc10>"
      ]
     },
     "execution_count": 7,
     "metadata": {},
     "output_type": "execute_result"
    }
   ],
   "source": [
    "# Cleaning class Test\n",
    "Cleaning()"
   ]
  },
  {
   "cell_type": "code",
   "execution_count": 9,
   "metadata": {},
   "outputs": [
    {
     "data": {
      "text/html": [
       "<div>\n",
       "<style scoped>\n",
       "    .dataframe tbody tr th:only-of-type {\n",
       "        vertical-align: middle;\n",
       "    }\n",
       "\n",
       "    .dataframe tbody tr th {\n",
       "        vertical-align: top;\n",
       "    }\n",
       "\n",
       "    .dataframe thead th {\n",
       "        text-align: right;\n",
       "    }\n",
       "</style>\n",
       "<table border=\"1\" class=\"dataframe\">\n",
       "  <thead>\n",
       "    <tr style=\"text-align: right;\">\n",
       "      <th></th>\n",
       "      <th>acc_no</th>\n",
       "      <th>cons_cost</th>\n",
       "      <th>office_cd</th>\n",
       "      <th>cont_cap</th>\n",
       "      <th>sup_type</th>\n",
       "    </tr>\n",
       "  </thead>\n",
       "  <tbody>\n",
       "    <tr>\n",
       "      <th>0</th>\n",
       "      <td>477420193243</td>\n",
       "      <td>11598900</td>\n",
       "      <td>AAAA</td>\n",
       "      <td>5</td>\n",
       "      <td>1</td>\n",
       "    </tr>\n",
       "    <tr>\n",
       "      <th>1</th>\n",
       "      <td>477420193349</td>\n",
       "      <td>23535217</td>\n",
       "      <td>AAAA</td>\n",
       "      <td>3</td>\n",
       "      <td>1</td>\n",
       "    </tr>\n",
       "    <tr>\n",
       "      <th>2</th>\n",
       "      <td>477420193827</td>\n",
       "      <td>5362339</td>\n",
       "      <td>AAAA</td>\n",
       "      <td>3</td>\n",
       "      <td>1</td>\n",
       "    </tr>\n",
       "    <tr>\n",
       "      <th>3</th>\n",
       "      <td>477420194090</td>\n",
       "      <td>19049767</td>\n",
       "      <td>AAAA</td>\n",
       "      <td>3</td>\n",
       "      <td>1</td>\n",
       "    </tr>\n",
       "    <tr>\n",
       "      <th>4</th>\n",
       "      <td>477420203270</td>\n",
       "      <td>4170650</td>\n",
       "      <td>AAAA</td>\n",
       "      <td>3</td>\n",
       "      <td>1</td>\n",
       "    </tr>\n",
       "  </tbody>\n",
       "</table>\n",
       "</div>"
      ],
      "text/plain": [
       "         acc_no  cons_cost office_cd  cont_cap  sup_type\n",
       "0  477420193243   11598900      AAAA         5         1\n",
       "1  477420193349   23535217      AAAA         3         1\n",
       "2  477420193827    5362339      AAAA         3         1\n",
       "3  477420194090   19049767      AAAA         3         1\n",
       "4  477420203270    4170650      AAAA         3         1"
      ]
     },
     "execution_count": 9,
     "metadata": {},
     "output_type": "execute_result"
    }
   ],
   "source": [
    "# 클리닝된 공사비 데이터셋 사업소 코드 확인\n",
    "df = read_data('data.cleaning.cons')\n",
    "df.head()"
   ]
  },
  {
   "cell_type": "code",
   "execution_count": 6,
   "metadata": {},
   "outputs": [],
   "source": []
  },
  {
   "cell_type": "code",
   "execution_count": 3,
   "metadata": {},
   "outputs": [],
   "source": [
    "df = read_data('data.provide.sl')"
   ]
  },
  {
   "cell_type": "code",
   "execution_count": 5,
   "metadata": {},
   "outputs": [
    {
     "data": {
      "text/plain": [
       "['지지물간거리']"
      ]
     },
     "execution_count": 5,
     "metadata": {},
     "output_type": "execute_result"
    }
   ],
   "source": [
    "[col for col in df.columns if col.endswith('간거리')]"
   ]
  },
  {
   "cell_type": "code",
   "execution_count": 7,
   "metadata": {},
   "outputs": [],
   "source": [
    "from aidds_buy.sys.utils.data_io import get_provide_data\n",
    "from aidds_buy.sys.utils.exception import AiddsException"
   ]
  },
  {
   "cell_type": "code",
   "execution_count": 8,
   "metadata": {},
   "outputs": [
    {
     "name": "stdout",
     "output_type": "stream",
     "text": [
      "[e2c846bfa2a8][2024-04-11 09:22:44.157552] Fetching provided data start.\n",
      "[e2c846bfa2a8][2024-04-11 09:23:10.330539]   Get CONS dataset: Size(19052, 143), Processing Time 0:00:26.172815\n",
      "[e2c846bfa2a8][2024-04-11 09:23:43.824295]   Get POLE dataset: Size(38533, 63), Processing Time 0:00:33.493577\n",
      "[e2c846bfa2a8][2024-04-11 09:24:15.438043]   Get LINE dataset: Size(40019, 77), Processing Time 0:00:31.613566\n",
      "[e2c846bfa2a8][2024-04-11 09:24:32.832730]   Get SL dataset: Size(22632, 57), Processing Time 0:00:17.394532\n",
      "[e2c846bfa2a8][2024-04-11 09:24:32.832837] Fetching provided data end., Total processing time: 0:01:48.675302\n"
     ]
    }
   ],
   "source": [
    "try:\n",
    "    _ = get_provide_data()\n",
    "except AiddsException as ae:\n",
    "    ae.print()"
   ]
  },
  {
   "cell_type": "code",
   "execution_count": null,
   "metadata": {},
   "outputs": [],
   "source": []
  }
 ],
 "metadata": {
  "kernelspec": {
   "display_name": "aidds",
   "language": "python",
   "name": "python3"
  },
  "language_info": {
   "codemirror_mode": {
    "name": "ipython",
    "version": 3
   },
   "file_extension": ".py",
   "mimetype": "text/x-python",
   "name": "python",
   "nbconvert_exporter": "python",
   "pygments_lexer": "ipython3",
   "version": "3.10.14"
  }
 },
 "nbformat": 4,
 "nbformat_minor": 2
}
