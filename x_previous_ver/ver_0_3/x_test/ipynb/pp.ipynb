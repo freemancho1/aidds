{
 "cells": [
  {
   "cell_type": "code",
   "execution_count": 1,
   "metadata": {},
   "outputs": [],
   "source": [
    "from aidds_buy.modeling.preprocessing import Preprocessing\n",
    "from aidds_buy.sys.utils.exception import AiddsException"
   ]
  },
  {
   "cell_type": "code",
   "execution_count": 2,
   "metadata": {},
   "outputs": [
    {
     "name": "stdout",
     "output_type": "stream",
     "text": [
      "[f6f56306455b][2024-04-12 10:29:31.450769] Data preprocessing start.\n",
      "[8390df99fc4f][2024-04-12 10:29:31.533975]   CONS dataset preprocessing start.\n",
      "[8390df99fc4f][2024-04-12 10:29:31.534055]     CONS dataset size before preprocessing: (15474, 5)\n",
      "[8390df99fc4f][2024-04-12 10:29:31.545985]     CONS dataset size after preprocessing: (15474, 5)\n",
      "[8390df99fc4f][2024-04-12 10:29:31.591315]     Preprocessing Dataset size after calculating and checking: (13416, 8)\n",
      "[8390df99fc4f][2024-04-12 10:29:31.591380]   CONS dataset preprocessing end., Total processing time: 0:00:00.057417\n",
      "[30cd364238ea][2024-04-12 10:29:31.591553]   POLE dataset preprocessing start.\n",
      "[30cd364238ea][2024-04-12 10:29:31.608282]     POLE dataset size after One-Hot Encoding: (28121, 20)\n",
      "[30cd364238ea][2024-04-12 10:30:17.503943]     Modeling dataset size merged with One-Hot POLE dataset: (13416, 27)\n",
      "[30cd364238ea][2024-04-12 10:30:17.504066]   POLE dataset preprocessing end., Total processing time: 0:00:45.912513\n",
      "[14fb5eb3d1e8][2024-04-12 10:30:17.504286]   LINE dataset preprocessing start.\n",
      "[14fb5eb3d1e8][2024-04-12 10:30:17.531338]     LINE dataset size after One-Hot Encoding: (30617, 45)\n",
      "[14fb5eb3d1e8][2024-04-12 10:31:06.344500]     Modeling dataset size merged with One-Hot LINE dataset: (13416, 71)\n",
      "[14fb5eb3d1e8][2024-04-12 10:31:06.344748]   LINE dataset preprocessing end., Total processing time: 0:00:48.840458\n",
      "[88953d6c7b5a][2024-04-12 10:31:06.345095]   SL dataset preprocessing start.\n",
      "[88953d6c7b5a][2024-04-12 10:31:06.359600]     SL dataset size after One-Hot Encoding: (17222, 30)\n",
      "[88953d6c7b5a][2024-04-12 10:31:41.173428]     Modeling dataset size merged with One-Hot SL dataset: (13416, 100)\n",
      "[88953d6c7b5a][2024-04-12 10:31:41.173692]   SL dataset preprocessing end., Total processing time: 0:00:34.828605\n",
      "[f6f56306455b][2024-04-12 10:31:41.424737] Data preprocessing end., Total processing time: 0:02:09.973948\n"
     ]
    }
   ],
   "source": [
    "try:\n",
    "    pp = Preprocessing()\n",
    "except AiddsException as ae:\n",
    "    ae.print()\n",
    "except Exception as e:\n",
    "    print(e)"
   ]
  },
  {
   "cell_type": "code",
   "execution_count": null,
   "metadata": {},
   "outputs": [],
   "source": []
  }
 ],
 "metadata": {
  "kernelspec": {
   "display_name": "aidds",
   "language": "python",
   "name": "python3"
  },
  "language_info": {
   "codemirror_mode": {
    "name": "ipython",
    "version": 3
   },
   "file_extension": ".py",
   "mimetype": "text/x-python",
   "name": "python",
   "nbconvert_exporter": "python",
   "pygments_lexer": "ipython3",
   "version": "3.10.14"
  }
 },
 "nbformat": 4,
 "nbformat_minor": 2
}
