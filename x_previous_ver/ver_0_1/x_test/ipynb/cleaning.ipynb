{
 "cells": [
  {
   "cell_type": "code",
   "execution_count": 2,
   "metadata": {},
   "outputs": [],
   "source": [
    "import pandas as pd\n",
    "from aidds.module.data_io import read_data"
   ]
  },
  {
   "cell_type": "code",
   "execution_count": 15,
   "metadata": {},
   "outputs": [],
   "source": [
    "cons_df = read_data('PROVIDE,SL')"
   ]
  },
  {
   "cell_type": "code",
   "execution_count": 16,
   "metadata": {},
   "outputs": [
    {
     "data": {
      "text/plain": [
       "0        18\n",
       "1        17\n",
       "2         1\n",
       "3         4\n",
       "4        20\n",
       "         ..\n",
       "22627     5\n",
       "22628    10\n",
       "22629    10\n",
       "22630     5\n",
       "22631     5\n",
       "Name: 지지물간거리, Length: 22632, dtype: int64"
      ]
     },
     "execution_count": 16,
     "metadata": {},
     "output_type": "execute_result"
    }
   ],
   "source": [
    "cons_df['지지물간거리']"
   ]
  },
  {
   "cell_type": "code",
   "execution_count": 11,
   "metadata": {},
   "outputs": [],
   "source": [
    "offc_list = cons_df.사업소명.unique().tolist()\n",
    "offc_cd = []\n",
    "for oname in cons_df.사업소명:\n",
    "    offc_cd.append(f'{chr(ord(\"A\")+offc_list.index(oname))*4}')\n",
    "cons_df['OFFC_CD'] = offc_cd"
   ]
  },
  {
   "cell_type": "code",
   "execution_count": 12,
   "metadata": {},
   "outputs": [
    {
     "data": {
      "text/plain": [
       "OFFC_CD\n",
       "HHHH    2591\n",
       "BBBB    2172\n",
       "KKKK    2057\n",
       "DDDD    1779\n",
       "FFFF    1728\n",
       "GGGG    1684\n",
       "CCCC    1668\n",
       "JJJJ    1572\n",
       "IIII    1447\n",
       "EEEE    1419\n",
       "AAAA     935\n",
       "Name: count, dtype: int64"
      ]
     },
     "execution_count": 12,
     "metadata": {},
     "output_type": "execute_result"
    }
   ],
   "source": [
    "cons_df.OFFC_CD.value_counts()"
   ]
  },
  {
   "cell_type": "code",
   "execution_count": null,
   "metadata": {},
   "outputs": [],
   "source": []
  }
 ],
 "metadata": {
  "kernelspec": {
   "display_name": "aidds",
   "language": "python",
   "name": "python3"
  },
  "language_info": {
   "codemirror_mode": {
    "name": "ipython",
    "version": 3
   },
   "file_extension": ".py",
   "mimetype": "text/x-python",
   "name": "python",
   "nbconvert_exporter": "python",
   "pygments_lexer": "ipython3",
   "version": "3.10.14"
  }
 },
 "nbformat": 4,
 "nbformat_minor": 2
}
