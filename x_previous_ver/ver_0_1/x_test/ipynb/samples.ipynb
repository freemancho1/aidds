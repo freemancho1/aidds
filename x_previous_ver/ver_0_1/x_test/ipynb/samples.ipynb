{
 "cells": [
  {
   "cell_type": "code",
   "execution_count": 6,
   "metadata": {},
   "outputs": [],
   "source": [
    "import random\n",
    "import json\n",
    "import pandas as pd\n",
    "from aidds.module.data_io import read_data"
   ]
  },
  {
   "cell_type": "code",
   "execution_count": 7,
   "metadata": {},
   "outputs": [],
   "source": [
    "jdict = json.loads('{\"PRED_1\": {\"CONS\": {\"ACC_NO\": \"474920205115\", \"CONS_COST\": 4081676, \"ACC_DATE\": \"2021-11-21 18:27:50\", \"OFFICE_CD\": \"GGGG\", \"CONT_CAP\": 5, \"SUB_TYPE\": 1, \"PRED_NO\": 1, \"PRED_TYPE\": 1}, \"POLE\": {\"POLE_1\": {\"POLE_SHAPE_CD\": \"O\", \"POLE_TYPE_CD\": \"C\", \"POLE_SPEC_CD\": 10.0, \"GEO_X\": \"GEO\", \"GEO_Y\": \"GEO\"}, \"POLE_2\": {\"POLE_SHAPE_CD\": \"O\", \"POLE_TYPE_CD\": \"C\", \"POLE_SPEC_CD\": 10.0, \"GEO_X\": \"GEO\", \"GEO_Y\": \"GEO\"}}, \"LINE\": {\"LINE_1\": {\"WIRING_SCHEME\": 13, \"LINE_TYPE_CD\": \"C2\", \"LINE_SPEC_CD\": 25.0, \"LINE_PHASE_CD\": 1, \"SPAN\": 32, \"NEUTRAL_TYPE_CD\": \"ZZ\", \"NEUTRAL_SPEC_CD\": 0.0}, \"LINE_2\": {\"WIRING_SCHEME\": 13, \"LINE_TYPE_CD\": \"C2\", \"LINE_SPEC_CD\": 25.0, \"LINE_PHASE_CD\": 1, \"SPAN\": 31, \"NEUTRAL_TYPE_CD\": \"ZZ\", \"NEUTRAL_SPEC_CD\": 0.0}}, \"SL\": {\"SL_1\": {\"SL_TYPE_CD\": \"D2\", \"SL_SPEC_CD\": 3.2, \"SL_SPAN\": 12, \"SUPERVISOR\": 1}}}, \"PRED_2\": {\"CONS\": {\"ACC_NO\": \"474920205115\", \"CONS_COST\": 3636526, \"ACC_DATE\": \"2020-12-01 08:29:27\", \"OFFICE_CD\": \"CCCC\", \"CONT_CAP\": 9, \"SUB_TYPE\": 1, \"PRED_NO\": 2, \"PRED_TYPE\": 2}, \"POLE\": {\"POLE_1\": {\"POLE_SHAPE_CD\": \"O\", \"POLE_TYPE_CD\": \"C\", \"POLE_SPEC_CD\": 12.0, \"GEO_X\": \"GEO\", \"GEO_Y\": \"GEO\"}}, \"LINE\": {\"LINE_1\": {\"WIRING_SCHEME\": 43, \"LINE_TYPE_CD\": \"AO\", \"LINE_SPEC_CD\": 35.0, \"LINE_PHASE_CD\": 3, \"SPAN\": 32, \"NEUTRAL_TYPE_CD\": \"AL\", \"NEUTRAL_SPEC_CD\": 32.0}}, \"SL\": {\"SL_1\": {\"SL_TYPE_CD\": \"C4\", \"SL_SPEC_CD\": 10.0, \"SL_SPAN\": 20, \"SUPERVISOR\": 1}}}, \"PRED_3\": {\"CONS\": {\"ACC_NO\": \"474920205115\", \"CONS_COST\": 3243500, \"ACC_DATE\": \"2021-02-16 15:41:31\", \"OFFICE_CD\": \"GGGG\", \"CONT_CAP\": 3, \"SUB_TYPE\": 1, \"PRED_NO\": 3, \"PRED_TYPE\": 3}, \"POLE\": {\"POLE_1\": {\"POLE_SHAPE_CD\": \"O\", \"POLE_TYPE_CD\": \"C\", \"POLE_SPEC_CD\": 10.0, \"GEO_X\": \"GEO\", \"GEO_Y\": \"GEO\"}, \"POLE_2\": {\"POLE_SHAPE_CD\": \"O\", \"POLE_TYPE_CD\": \"C\", \"POLE_SPEC_CD\": 10.0, \"GEO_X\": \"GEO\", \"GEO_Y\": \"GEO\"}}, \"LINE\": {\"LINE_1\": {\"WIRING_SCHEME\": 13, \"LINE_TYPE_CD\": \"OW\", \"LINE_SPEC_CD\": 22.0, \"LINE_PHASE_CD\": 1, \"SPAN\": 26, \"NEUTRAL_TYPE_CD\": \"WO\", \"NEUTRAL_SPEC_CD\": 22.0}, \"LINE_2\": {\"WIRING_SCHEME\": 13, \"LINE_TYPE_CD\": \"OW\", \"LINE_SPEC_CD\": 22.0, \"LINE_PHASE_CD\": 1, \"SPAN\": 51, \"NEUTRAL_TYPE_CD\": \"WO\", \"NEUTRAL_SPEC_CD\": 22.0}}, \"SL\": {\"SL_1\": {\"SL_TYPE_CD\": \"D2\", \"SL_SPEC_CD\": 3.2, \"SL_SPAN\": 12, \"SUPERVISOR\": 1}}}}')"
   ]
  },
  {
   "cell_type": "code",
   "execution_count": 8,
   "metadata": {},
   "outputs": [
    {
     "data": {
      "text/plain": [
       "dict"
      ]
     },
     "execution_count": 8,
     "metadata": {},
     "output_type": "execute_result"
    }
   ],
   "source": [
    "type(jdict)"
   ]
  },
  {
   "cell_type": "code",
   "execution_count": 9,
   "metadata": {},
   "outputs": [],
   "source": [
    "df_dict = {}"
   ]
  },
  {
   "cell_type": "code",
   "execution_count": 22,
   "metadata": {},
   "outputs": [
    {
     "data": {
      "text/plain": [
       "{'ACC_NO': '474920205115',\n",
       " 'CONS_COST': 4081676,\n",
       " 'ACC_DATE': '2021-11-21 18:27:50',\n",
       " 'OFFICE_CD': 'GGGG',\n",
       " 'CONT_CAP': 5,\n",
       " 'SUB_TYPE': 1,\n",
       " 'PRED_NO': 1,\n",
       " 'PRED_TYPE': 1}"
      ]
     },
     "execution_count": 22,
     "metadata": {},
     "output_type": "execute_result"
    }
   ],
   "source": [
    "sp1 = jdict['PRED_1']['CONS']\n",
    "sp1"
   ]
  },
  {
   "cell_type": "code",
   "execution_count": 31,
   "metadata": {},
   "outputs": [
    {
     "data": {
      "text/html": [
       "<div>\n",
       "<style scoped>\n",
       "    .dataframe tbody tr th:only-of-type {\n",
       "        vertical-align: middle;\n",
       "    }\n",
       "\n",
       "    .dataframe tbody tr th {\n",
       "        vertical-align: top;\n",
       "    }\n",
       "\n",
       "    .dataframe thead th {\n",
       "        text-align: right;\n",
       "    }\n",
       "</style>\n",
       "<table border=\"1\" class=\"dataframe\">\n",
       "  <thead>\n",
       "    <tr style=\"text-align: right;\">\n",
       "      <th></th>\n",
       "      <th>ACC_NO</th>\n",
       "      <th>CONS_COST</th>\n",
       "      <th>ACC_DATE</th>\n",
       "      <th>OFFICE_CD</th>\n",
       "      <th>CONT_CAP</th>\n",
       "      <th>SUB_TYPE</th>\n",
       "      <th>PRED_NO</th>\n",
       "      <th>PRED_TYPE</th>\n",
       "    </tr>\n",
       "  </thead>\n",
       "  <tbody>\n",
       "    <tr>\n",
       "      <th>0</th>\n",
       "      <td>474920205115</td>\n",
       "      <td>4081676</td>\n",
       "      <td>2021-11-21 18:27:50</td>\n",
       "      <td>GGGG</td>\n",
       "      <td>5</td>\n",
       "      <td>1</td>\n",
       "      <td>1</td>\n",
       "      <td>1</td>\n",
       "    </tr>\n",
       "  </tbody>\n",
       "</table>\n",
       "</div>"
      ],
      "text/plain": [
       "         ACC_NO  CONS_COST             ACC_DATE OFFICE_CD  CONT_CAP  SUB_TYPE  \\\n",
       "0  474920205115    4081676  2021-11-21 18:27:50      GGGG         5         1   \n",
       "\n",
       "   PRED_NO  PRED_TYPE  \n",
       "0        1          1  "
      ]
     },
     "execution_count": 31,
     "metadata": {},
     "output_type": "execute_result"
    }
   ],
   "source": [
    "r1 = [sp1]\n",
    "df1 = pd.DataFrame(r1)\n",
    "df1"
   ]
  },
  {
   "cell_type": "code",
   "execution_count": 23,
   "metadata": {},
   "outputs": [
    {
     "data": {
      "text/plain": [
       "{'LINE_1': {'WIRING_SCHEME': 13,\n",
       "  'LINE_TYPE_CD': 'C2',\n",
       "  'LINE_SPEC_CD': 25.0,\n",
       "  'LINE_PHASE_CD': 1,\n",
       "  'SPAN': 32,\n",
       "  'NEUTRAL_TYPE_CD': 'ZZ',\n",
       "  'NEUTRAL_SPEC_CD': 0.0},\n",
       " 'LINE_2': {'WIRING_SCHEME': 13,\n",
       "  'LINE_TYPE_CD': 'C2',\n",
       "  'LINE_SPEC_CD': 25.0,\n",
       "  'LINE_PHASE_CD': 1,\n",
       "  'SPAN': 31,\n",
       "  'NEUTRAL_TYPE_CD': 'ZZ',\n",
       "  'NEUTRAL_SPEC_CD': 0.0}}"
      ]
     },
     "execution_count": 23,
     "metadata": {},
     "output_type": "execute_result"
    }
   ],
   "source": [
    "sp2 = jdict['PRED_1']['LINE']\n",
    "sp2"
   ]
  },
  {
   "cell_type": "code",
   "execution_count": 24,
   "metadata": {},
   "outputs": [
    {
     "data": {
      "text/plain": [
       "{'POLE_1': {'POLE_SHAPE_CD': 'O',\n",
       "  'POLE_TYPE_CD': 'C',\n",
       "  'POLE_SPEC_CD': 10.0,\n",
       "  'GEO_X': 'GEO',\n",
       "  'GEO_Y': 'GEO'},\n",
       " 'POLE_2': {'POLE_SHAPE_CD': 'O',\n",
       "  'POLE_TYPE_CD': 'C',\n",
       "  'POLE_SPEC_CD': 10.0,\n",
       "  'GEO_X': 'GEO',\n",
       "  'GEO_Y': 'GEO'}}"
      ]
     },
     "execution_count": 24,
     "metadata": {},
     "output_type": "execute_result"
    }
   ],
   "source": [
    "sp3 = jdict['PRED_1']['POLE']\n",
    "sp3"
   ]
  },
  {
   "cell_type": "code",
   "execution_count": 25,
   "metadata": {},
   "outputs": [
    {
     "data": {
      "text/plain": [
       "{'SL_1': {'SL_TYPE_CD': 'D2',\n",
       "  'SL_SPEC_CD': 3.2,\n",
       "  'SL_SPAN': 12,\n",
       "  'SUPERVISOR': 1}}"
      ]
     },
     "execution_count": 25,
     "metadata": {},
     "output_type": "execute_result"
    }
   ],
   "source": [
    "sp4 = jdict['PRED_1']['SL']\n",
    "sp4"
   ]
  },
  {
   "cell_type": "code",
   "execution_count": 28,
   "metadata": {},
   "outputs": [
    {
     "data": {
      "text/html": [
       "<div>\n",
       "<style scoped>\n",
       "    .dataframe tbody tr th:only-of-type {\n",
       "        vertical-align: middle;\n",
       "    }\n",
       "\n",
       "    .dataframe tbody tr th {\n",
       "        vertical-align: top;\n",
       "    }\n",
       "\n",
       "    .dataframe thead th {\n",
       "        text-align: right;\n",
       "    }\n",
       "</style>\n",
       "<table border=\"1\" class=\"dataframe\">\n",
       "  <thead>\n",
       "    <tr style=\"text-align: right;\">\n",
       "      <th></th>\n",
       "      <th>WIRING_SCHEME</th>\n",
       "      <th>LINE_TYPE_CD</th>\n",
       "      <th>LINE_SPEC_CD</th>\n",
       "      <th>LINE_PHASE_CD</th>\n",
       "      <th>SPAN</th>\n",
       "      <th>NEUTRAL_TYPE_CD</th>\n",
       "      <th>NEUTRAL_SPEC_CD</th>\n",
       "    </tr>\n",
       "  </thead>\n",
       "  <tbody>\n",
       "    <tr>\n",
       "      <th>0</th>\n",
       "      <td>13</td>\n",
       "      <td>C2</td>\n",
       "      <td>25.0</td>\n",
       "      <td>1</td>\n",
       "      <td>32</td>\n",
       "      <td>ZZ</td>\n",
       "      <td>0.0</td>\n",
       "    </tr>\n",
       "    <tr>\n",
       "      <th>1</th>\n",
       "      <td>13</td>\n",
       "      <td>C2</td>\n",
       "      <td>25.0</td>\n",
       "      <td>1</td>\n",
       "      <td>31</td>\n",
       "      <td>ZZ</td>\n",
       "      <td>0.0</td>\n",
       "    </tr>\n",
       "  </tbody>\n",
       "</table>\n",
       "</div>"
      ],
      "text/plain": [
       "   WIRING_SCHEME LINE_TYPE_CD  LINE_SPEC_CD  LINE_PHASE_CD  SPAN  \\\n",
       "0             13           C2          25.0              1    32   \n",
       "1             13           C2          25.0              1    31   \n",
       "\n",
       "  NEUTRAL_TYPE_CD  NEUTRAL_SPEC_CD  \n",
       "0              ZZ              0.0  \n",
       "1              ZZ              0.0  "
      ]
     },
     "execution_count": 28,
     "metadata": {},
     "output_type": "execute_result"
    }
   ],
   "source": [
    "r2 = [v for _, v in sp2.items()]\n",
    "df2 = pd.DataFrame(r2)\n",
    "df2"
   ]
  },
  {
   "cell_type": "code",
   "execution_count": 30,
   "metadata": {},
   "outputs": [
    {
     "data": {
      "text/html": [
       "<div>\n",
       "<style scoped>\n",
       "    .dataframe tbody tr th:only-of-type {\n",
       "        vertical-align: middle;\n",
       "    }\n",
       "\n",
       "    .dataframe tbody tr th {\n",
       "        vertical-align: top;\n",
       "    }\n",
       "\n",
       "    .dataframe thead th {\n",
       "        text-align: right;\n",
       "    }\n",
       "</style>\n",
       "<table border=\"1\" class=\"dataframe\">\n",
       "  <thead>\n",
       "    <tr style=\"text-align: right;\">\n",
       "      <th></th>\n",
       "      <th>SL_TYPE_CD</th>\n",
       "      <th>SL_SPEC_CD</th>\n",
       "      <th>SL_SPAN</th>\n",
       "      <th>SUPERVISOR</th>\n",
       "    </tr>\n",
       "  </thead>\n",
       "  <tbody>\n",
       "    <tr>\n",
       "      <th>0</th>\n",
       "      <td>D2</td>\n",
       "      <td>3.2</td>\n",
       "      <td>12</td>\n",
       "      <td>1</td>\n",
       "    </tr>\n",
       "  </tbody>\n",
       "</table>\n",
       "</div>"
      ],
      "text/plain": [
       "  SL_TYPE_CD  SL_SPEC_CD  SL_SPAN  SUPERVISOR\n",
       "0         D2         3.2       12           1"
      ]
     },
     "execution_count": 30,
     "metadata": {},
     "output_type": "execute_result"
    }
   ],
   "source": [
    "r4 = [v for _, v in sp4.items()]\n",
    "df4 = pd.DataFrame(r4)\n",
    "df4"
   ]
  },
  {
   "cell_type": "code",
   "execution_count": null,
   "metadata": {},
   "outputs": [],
   "source": []
  }
 ],
 "metadata": {
  "kernelspec": {
   "display_name": "aidds",
   "language": "python",
   "name": "python3"
  },
  "language_info": {
   "codemirror_mode": {
    "name": "ipython",
    "version": 3
   },
   "file_extension": ".py",
   "mimetype": "text/x-python",
   "name": "python",
   "nbconvert_exporter": "python",
   "pygments_lexer": "ipython3",
   "version": "3.10.14"
  }
 },
 "nbformat": 4,
 "nbformat_minor": 2
}
