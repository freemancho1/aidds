{
 "cells": [
  {
   "cell_type": "code",
   "execution_count": 1,
   "metadata": {},
   "outputs": [],
   "source": [
    "import pandas as pd\n",
    "import aidds_buy.sys.config as cfg\n",
    "from aidds_buy.module.data_io import read_data"
   ]
  },
  {
   "cell_type": "code",
   "execution_count": 2,
   "metadata": {},
   "outputs": [
    {
     "name": "stdout",
     "output_type": "stream",
     "text": [
      "22\n",
      "['ACC_NO', 'GEO_X', 'GEO_Y', 'POLE_SHAPE_G', 'POLE_SHAPE_O', 'POLE_SHAPE_V', 'POLE_TYPE_0', 'POLE_TYPE_1', 'POLE_TYPE_B', 'POLE_TYPE_C', 'POLE_TYPE_E', 'POLE_TYPE_H', 'POLE_TYPE_M', 'POLE_TYPE_R', 'POLE_SPEC_0.0', 'POLE_SPEC_6.0', 'POLE_SPEC_8.0', 'POLE_SPEC_10.0', 'POLE_SPEC_11.0', 'POLE_SPEC_12.0', 'POLE_SPEC_14.0', 'POLE_SPEC_16.0']\n"
     ]
    }
   ],
   "source": [
    "poh = read_data('DUMP,POLE_ONE_HOT_COLS')\n",
    "print(len(poh))\n",
    "print(poh)"
   ]
  },
  {
   "cell_type": "code",
   "execution_count": 3,
   "metadata": {},
   "outputs": [],
   "source": [
    "sl_df = read_data('CLEANING,BATCH,SL')"
   ]
  },
  {
   "cell_type": "code",
   "execution_count": 5,
   "metadata": {},
   "outputs": [
    {
     "data": {
      "text/html": [
       "<div>\n",
       "<style scoped>\n",
       "    .dataframe tbody tr th:only-of-type {\n",
       "        vertical-align: middle;\n",
       "    }\n",
       "\n",
       "    .dataframe tbody tr th {\n",
       "        vertical-align: top;\n",
       "    }\n",
       "\n",
       "    .dataframe thead th {\n",
       "        text-align: right;\n",
       "    }\n",
       "</style>\n",
       "<table border=\"1\" class=\"dataframe\">\n",
       "  <thead>\n",
       "    <tr style=\"text-align: right;\">\n",
       "      <th></th>\n",
       "      <th>ACC_NO</th>\n",
       "      <th>SL_TYPE_CD</th>\n",
       "      <th>SL_SPEC_CD</th>\n",
       "      <th>SL_SPAN</th>\n",
       "      <th>SUPERVISOR</th>\n",
       "    </tr>\n",
       "  </thead>\n",
       "  <tbody>\n",
       "    <tr>\n",
       "      <th>0</th>\n",
       "      <td>477420193243</td>\n",
       "      <td>D2</td>\n",
       "      <td>3.2</td>\n",
       "      <td>15</td>\n",
       "      <td>1</td>\n",
       "    </tr>\n",
       "    <tr>\n",
       "      <th>1</th>\n",
       "      <td>477420193349</td>\n",
       "      <td>D2</td>\n",
       "      <td>3.2</td>\n",
       "      <td>5</td>\n",
       "      <td>1</td>\n",
       "    </tr>\n",
       "    <tr>\n",
       "      <th>2</th>\n",
       "      <td>477420193349</td>\n",
       "      <td>D2</td>\n",
       "      <td>3.2</td>\n",
       "      <td>7</td>\n",
       "      <td>1</td>\n",
       "    </tr>\n",
       "    <tr>\n",
       "      <th>3</th>\n",
       "      <td>477420193827</td>\n",
       "      <td>D2</td>\n",
       "      <td>3.2</td>\n",
       "      <td>10</td>\n",
       "      <td>1</td>\n",
       "    </tr>\n",
       "    <tr>\n",
       "      <th>4</th>\n",
       "      <td>477420194090</td>\n",
       "      <td>D2</td>\n",
       "      <td>3.2</td>\n",
       "      <td>18</td>\n",
       "      <td>1</td>\n",
       "    </tr>\n",
       "  </tbody>\n",
       "</table>\n",
       "</div>"
      ],
      "text/plain": [
       "         ACC_NO SL_TYPE_CD  SL_SPEC_CD  SL_SPAN  SUPERVISOR\n",
       "0  477420193243         D2         3.2       15           1\n",
       "1  477420193349         D2         3.2        5           1\n",
       "2  477420193349         D2         3.2        7           1\n",
       "3  477420193827         D2         3.2       10           1\n",
       "4  477420194090         D2         3.2       18           1"
      ]
     },
     "execution_count": 5,
     "metadata": {},
     "output_type": "execute_result"
    }
   ],
   "source": [
    "sl_df.head()"
   ]
  },
  {
   "cell_type": "code",
   "execution_count": null,
   "metadata": {},
   "outputs": [],
   "source": []
  }
 ],
 "metadata": {
  "kernelspec": {
   "display_name": "aidds",
   "language": "python",
   "name": "python3"
  },
  "language_info": {
   "codemirror_mode": {
    "name": "ipython",
    "version": 3
   },
   "file_extension": ".py",
   "mimetype": "text/x-python",
   "name": "python",
   "nbconvert_exporter": "python",
   "pygments_lexer": "ipython3",
   "version": "3.10.14"
  }
 },
 "nbformat": 4,
 "nbformat_minor": 2
}
