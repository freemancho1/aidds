{
 "cells": [
  {
   "cell_type": "code",
   "execution_count": 1,
   "metadata": {},
   "outputs": [],
   "source": [
    "import json"
   ]
  },
  {
   "cell_type": "code",
   "execution_count": 2,
   "metadata": {},
   "outputs": [],
   "source": [
    "jdata = {\"PRED_1\": {\"CONS\": {\"ACC_NO\": \"442720233500\", \"CONS_COST\": 2279962, \"ACC_DATE\": \"2023-05-04 16:24:59\", \"OFFICE_CD\": \"BBBB\", \"CONT_CAP\": 3, \"SUB_TYPE\": 1, \"PRED_NO\": 1, \"PRED_TYPE\": 1}, \"POLE\": {\"POLE_1\": {\"ACC_NO\": \"442720233500\", \"POLE_SHAPE_CD\": \"O\", \"POLE_TYPE_CD\": \"C\", \"POLE_SPEC_CD\": 10.0, \"GEO_X\": \"GEO\", \"GEO_Y\": \"GEO\"}}, \"LINE\": {\"LINE_1\": {\"ACC_NO\": \"442720233500\", \"WIRING_SCHEME\": 13, \"LINE_TYPE_CD\": \"AO\", \"LINE_SPEC_CD\": 35.0, \"LINE_PHASE_CD\": 1, \"SPAN\": 22, \"NEUTRAL_TYPE_CD\": \"AL\", \"NEUTRAL_SPEC_CD\": 32.0}}, \"SL\": {\"SL_1\": {\"ACC_NO\": \"442720233500\", \"SL_TYPE_CD\": \"D2\", \"SL_SPEC_CD\": 3.2, \"SL_SPAN\": 7, \"SUPERVISOR\": 1}}}, \"PRED_2\": {\"CONS\": {\"ACC_NO\": \"442720233500\", \"CONS_COST\": 7693587, \"ACC_DATE\": \"2022-03-23 12:14:17\", \"OFFICE_CD\": \"DDDD\", \"CONT_CAP\": 5, \"SUB_TYPE\": 1, \"PRED_NO\": 2, \"PRED_TYPE\": 2}, \"POLE\": {\"POLE_1\": {\"ACC_NO\": \"442720233500\", \"POLE_SHAPE_CD\": \"O\", \"POLE_TYPE_CD\": \"C\", \"POLE_SPEC_CD\": 10.0, \"GEO_X\": \"GEO\", \"GEO_Y\": \"GEO\"}, \"POLE_2\": {\"ACC_NO\": \"442720233500\", \"POLE_SHAPE_CD\": \"O\", \"POLE_TYPE_CD\": \"C\", \"POLE_SPEC_CD\": 12.0, \"GEO_X\": \"GEO\", \"GEO_Y\": \"GEO\"}, \"POLE_3\": {\"ACC_NO\": \"442720233500\", \"POLE_SHAPE_CD\": \"O\", \"POLE_TYPE_CD\": \"C\", \"POLE_SPEC_CD\": 12.0, \"GEO_X\": \"GEO\", \"GEO_Y\": \"GEO\"}}, \"LINE\": {\"LINE_1\": {\"ACC_NO\": \"442720233500\", \"WIRING_SCHEME\": 13, \"LINE_TYPE_CD\": \"AO\", \"LINE_SPEC_CD\": 35.0, \"LINE_PHASE_CD\": 1, \"SPAN\": 38, \"NEUTRAL_TYPE_CD\": \"AL\", \"NEUTRAL_SPEC_CD\": 32.0}, \"LINE_2\": {\"ACC_NO\": \"442720233500\", \"WIRING_SCHEME\": 13, \"LINE_TYPE_CD\": \"C2\", \"LINE_SPEC_CD\": 25.0, \"LINE_PHASE_CD\": 1, \"SPAN\": 53, \"NEUTRAL_TYPE_CD\": \"ZZ\", \"NEUTRAL_SPEC_CD\": 0.0}, \"LINE_3\": {\"ACC_NO\": \"442720233500\", \"WIRING_SCHEME\": 13, \"LINE_TYPE_CD\": \"C2\", \"LINE_SPEC_CD\": 25.0, \"LINE_PHASE_CD\": 1, \"SPAN\": 44, \"NEUTRAL_TYPE_CD\": \"ZZ\", \"NEUTRAL_SPEC_CD\": 0.0}}, \"SL\": {\"SL_1\": {\"ACC_NO\": \"442720233500\", \"SL_TYPE_CD\": \"D2\", \"SL_SPEC_CD\": 3.2, \"SL_SPAN\": 1, \"SUPERVISOR\": 1}}}, \"PRED_3\": {\"CONS\": {\"ACC_NO\": \"442720233500\", \"CONS_COST\": 1830420, \"ACC_DATE\": \"2020-11-27 08:28:08\", \"OFFICE_CD\": \"BBBB\", \"CONT_CAP\": 3, \"SUB_TYPE\": 1, \"PRED_NO\": 3, \"PRED_TYPE\": 3}, \"POLE\": {\"POLE_1\": {\"ACC_NO\": \"442720233500\", \"POLE_SHAPE_CD\": \"O\", \"POLE_TYPE_CD\": \"C\", \"POLE_SPEC_CD\": 10.0, \"GEO_X\": \"GEO\", \"GEO_Y\": \"GEO\"}}, \"LINE\": {\"LINE_1\": {\"ACC_NO\": \"442720233500\", \"WIRING_SCHEME\": 13, \"LINE_TYPE_CD\": \"AO\", \"LINE_SPEC_CD\": 35.0, \"LINE_PHASE_CD\": 1, \"SPAN\": 24, \"NEUTRAL_TYPE_CD\": \"AL\", \"NEUTRAL_SPEC_CD\": 32.0}}, \"SL\": {\"SL_1\": {\"ACC_NO\": \"442720233500\", \"SL_TYPE_CD\": \"D2\", \"SL_SPEC_CD\": 3.2, \"SL_SPAN\": 6, \"SUPERVISOR\": 1}}}}"
   ]
  },
  {
   "cell_type": "code",
   "execution_count": 3,
   "metadata": {},
   "outputs": [
    {
     "data": {
      "text/plain": [
       "'442720233500'"
      ]
     },
     "execution_count": 3,
     "metadata": {},
     "output_type": "execute_result"
    }
   ],
   "source": [
    "first_key = next(iter(jdata))\n",
    "jdata[first_key]['CONS']['ACC_NO']"
   ]
  },
  {
   "cell_type": "code",
   "execution_count": null,
   "metadata": {},
   "outputs": [],
   "source": []
  }
 ],
 "metadata": {
  "kernelspec": {
   "display_name": "aidds",
   "language": "python",
   "name": "python3"
  },
  "language_info": {
   "codemirror_mode": {
    "name": "ipython",
    "version": 3
   },
   "file_extension": ".py",
   "mimetype": "text/x-python",
   "name": "python",
   "nbconvert_exporter": "python",
   "pygments_lexer": "ipython3",
   "version": "3.10.14"
  }
 },
 "nbformat": 4,
 "nbformat_minor": 2
}
