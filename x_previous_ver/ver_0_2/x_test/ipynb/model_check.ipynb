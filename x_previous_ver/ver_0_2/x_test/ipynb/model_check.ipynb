{
 "cells": [
  {
   "cell_type": "code",
   "execution_count": 1,
   "metadata": {},
   "outputs": [],
   "source": [
    "import pandas as pd\n",
    "import numpy as np\n",
    "import pickle\n",
    "\n",
    "import aidds_buy.sys.config as cfg\n",
    "from aidds_buy.sys.utils.exception import AiddsException\n",
    "from aidds_buy.sys.app_init import AiddsInit, PltInit\n",
    "from aidds_buy.sys.utils.data_io import read_data\n",
    "from aidds_buy.sys.utils.evaluations import regression_evals"
   ]
  },
  {
   "cell_type": "code",
   "execution_count": 2,
   "metadata": {},
   "outputs": [
    {
     "data": {
      "text/plain": [
       "<aidds.sys.app_init.PltInit at 0x7f9e65ec5fc0>"
      ]
     },
     "execution_count": 2,
     "metadata": {},
     "output_type": "execute_result"
    }
   ],
   "source": [
    "AiddsInit()\n",
    "PltInit()"
   ]
  },
  {
   "cell_type": "code",
   "execution_count": 3,
   "metadata": {},
   "outputs": [],
   "source": [
    "try:\n",
    "    model = {\n",
    "        pc_key: read_data(file_code=f'DUMP,MODELS,{pc_key},BEST') \\\n",
    "            for pc_key in cfg.PC_TYPEs\n",
    "    }\n",
    "    data = {\n",
    "        pc_key: {\n",
    "            'X': read_data(file_code=f'SCALING,TEST_X,{pc_key}'),\n",
    "            'y': read_data(file_code=f'SCALING,TEST_y,{pc_key}'),\n",
    "        } for pc_key in cfg.PC_TYPEs\n",
    "    }\n",
    "except AiddsException as ae:\n",
    "    ae.print()\n",
    "except Exception as e:\n",
    "    print(e)"
   ]
  },
  {
   "cell_type": "code",
   "execution_count": 4,
   "metadata": {},
   "outputs": [],
   "source": [
    "pred_y = {}\n",
    "for pc_key in cfg.PC_TYPEs:\n",
    "    pred_y[pc_key] = model[pc_key].predict(data[pc_key]['X'])"
   ]
  },
  {
   "cell_type": "code",
   "execution_count": 5,
   "metadata": {},
   "outputs": [],
   "source": [
    "def evals(pc_key=None, y=data, p=pred_y):\n",
    "    test_y = data[pc_key]['y'].to_numpy().reshape(-1)\n",
    "    _, message = regression_evals(y=test_y, p=pred_y[pc_key], verbose=1)\n",
    "    print(f'[{pc_key}]: {message}')\n",
    "    "
   ]
  },
  {
   "cell_type": "code",
   "execution_count": 6,
   "metadata": {},
   "outputs": [
    {
     "name": "stdout",
     "output_type": "stream",
     "text": [
      "[ALL]: MAPE: 0.602591(60.2591), R2SCORE: 0.415211\n",
      "[1]: MAPE: 1.233139(123.3139), R2SCORE: -1.653789\n",
      "[N1]: MAPE: 0.158091(15.8091), R2SCORE: 0.712867\n"
     ]
    }
   ],
   "source": [
    "for pc_key in cfg.PC_TYPEs:\n",
    "    evals(pc_key)"
   ]
  },
  {
   "cell_type": "code",
   "execution_count": 10,
   "metadata": {},
   "outputs": [],
   "source": [
    "def check_predict(pc_key=None, idx=None, y=data, p=pred_y):\n",
    "    test_y = data[pc_key]['y'].to_numpy().reshape(-1)[idx]\n",
    "    pred_y = p[pc_key][idx]\n",
    "    print(test_y, pred_y)"
   ]
  },
  {
   "cell_type": "code",
   "execution_count": 12,
   "metadata": {},
   "outputs": [
    {
     "name": "stdout",
     "output_type": "stream",
     "text": [
      "2225828 3678852.494674758\n",
      "3368623 6611927.480750836\n",
      "2659772 4214924.119257597\n",
      "6371130 7354762.223163698\n",
      "1181308 3774336.6875937455\n",
      "2834296 4250861.079774442\n",
      "2272593 3742998.2283330313\n",
      "2438272 3880429.230356717\n",
      "3259617 4240698.877921393\n",
      "2053539 4050821.661220757\n"
     ]
    }
   ],
   "source": [
    "for i in range(10):\n",
    "    check_predict('ALL', i)"
   ]
  },
  {
   "cell_type": "code",
   "execution_count": null,
   "metadata": {},
   "outputs": [],
   "source": []
  }
 ],
 "metadata": {
  "kernelspec": {
   "display_name": "aidds",
   "language": "python",
   "name": "python3"
  },
  "language_info": {
   "codemirror_mode": {
    "name": "ipython",
    "version": 3
   },
   "file_extension": ".py",
   "mimetype": "text/x-python",
   "name": "python",
   "nbconvert_exporter": "python",
   "pygments_lexer": "ipython3",
   "version": "3.10.14"
  }
 },
 "nbformat": 4,
 "nbformat_minor": 2
}
